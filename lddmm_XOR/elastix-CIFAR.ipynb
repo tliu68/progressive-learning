{
 "cells": [
  {
   "cell_type": "code",
   "execution_count": 1,
   "metadata": {
    "scrolled": false
   },
   "outputs": [],
   "source": [
    "import random\n",
    "import matplotlib.pyplot as plt\n",
    "import tensorflow as tf\n",
    "import tensorflow.keras as keras\n",
    "import seaborn as sns\n",
    "import numpy as np\n",
    "import pickle\n",
    "from joblib import Parallel, delayed\n",
    "from math import log2, ceil\n",
    "from scipy.ndimage import zoom\n",
    "from scipy import ndimage\n",
    "import time\n",
    "import os\n",
    "import pandas as pd\n",
    "\n",
    "from proglearn.forest import LifelongClassificationForest\n",
    "# import proglearn.docs.tutorials.functions.rotation_cifar_functions as fn\n",
    "from proglearn.progressive_learner import ProgressiveLearner\n",
    "from proglearn.deciders import SimpleArgmaxAverage\n",
    "from proglearn.transformers import TreeClassificationTransformer, NeuralClassificationTransformer\n",
    "from proglearn.voters import TreeClassificationVoter, KNNClassificationVoter\n",
    "\n",
    "import SimpleITK as sitk\n",
    "from skimage.util import img_as_ubyte\n",
    "from skimage.transform import rotate\n",
    "from multiprocessing import Pool\n",
    "from functools import partial"
   ]
  },
  {
   "cell_type": "code",
   "execution_count": 2,
   "metadata": {},
   "outputs": [],
   "source": [
    "context = sns.plotting_context(context=\"talk\", font_scale=1)\n",
    "sns.set_context(context)"
   ]
  },
  {
   "cell_type": "code",
   "execution_count": 6,
   "metadata": {},
   "outputs": [
    {
     "name": "stdout",
     "output_type": "stream",
     "text": [
      "Downloading data from https://www.cs.toronto.edu/~kriz/cifar-100-python.tar.gz\n",
      "169009152/169001437 [==============================] - 120s 1us/step\n"
     ]
    }
   ],
   "source": [
    "# (X_train, y_train), (X_test, y_test) = keras.datasets.cifar100.load_data()"
   ]
  },
  {
   "cell_type": "code",
   "execution_count": 3,
   "metadata": {},
   "outputs": [],
   "source": [
    "# data = [(X_train, y_train), (X_test, y_test)]\n",
    "\n",
    "# pickle_out = open(\"data.pickle\", \"wb\")\n",
    "# pickle.dump(data, pickle_out)\n",
    "# pickle_out.close()\n",
    "\n",
    "pickle_in = open(\"data.pickle\", \"rb\")\n",
    "data = pickle.load(pickle_in)\n",
    "\n",
    "# with open('data.pickle', 'rb') as f:\n",
    "#      data = pickle.load(f)"
   ]
  },
  {
   "cell_type": "code",
   "execution_count": 4,
   "metadata": {},
   "outputs": [],
   "source": [
    "(X_train, y_train) = data[0]\n",
    "(X_test, y_test) = data[1]\n",
    "data_x = np.concatenate([X_train, X_test])\n",
    "data_y = np.concatenate([y_train, y_test])\n",
    "data_y = data_y[:, 0]"
   ]
  },
  {
   "cell_type": "code",
   "execution_count": 5,
   "metadata": {},
   "outputs": [],
   "source": [
    "def image_aug(pic, angle, centroid_x=23, centroid_y=23, win=16, scale=1.45):\n",
    "    im_sz = int(np.floor(pic.shape[0]*scale))\n",
    "    pic_ = np.uint8(np.zeros((im_sz,im_sz,3),dtype=int))\n",
    "\n",
    "    pic_[:,:,0] = ndimage.zoom(pic[:,:,0],scale)\n",
    "\n",
    "    pic_[:,:,1] = ndimage.zoom(pic[:,:,1],scale)\n",
    "    pic_[:,:,2] = ndimage.zoom(pic[:,:,2],scale)\n",
    "\n",
    "    image_aug = rotate(pic_, angle, resize=False)\n",
    "    image_aug_ = image_aug[centroid_x-win:centroid_x+win,centroid_y-win:centroid_y+win,:]\n",
    "\n",
    "    return img_as_ubyte(image_aug_)"
   ]
  },
  {
   "cell_type": "code",
   "execution_count": 6,
   "metadata": {},
   "outputs": [],
   "source": [
    "def init_forest(max_depth):\n",
    "    np.random.seed(1)\n",
    "    default_transformer_class = TreeClassificationTransformer\n",
    "    default_transformer_kwargs = {\"kwargs\" : {\"max_depth\" : max_depth}}\n",
    "    default_voter_class = TreeClassificationVoter\n",
    "    default_voter_kwargs = {}\n",
    "    default_decider_class = SimpleArgmaxAverage\n",
    "    progressive_learner = ProgressiveLearner(default_transformer_class = default_transformer_class,\n",
    "                             default_transformer_kwargs = default_transformer_kwargs,\n",
    "                             default_voter_class = default_voter_class,\n",
    "                             default_voter_kwargs = default_voter_kwargs,\n",
    "                             default_decider_class = default_decider_class)\n",
    "    return progressive_learner"
   ]
  },
  {
   "cell_type": "code",
   "execution_count": null,
   "metadata": {},
   "outputs": [],
   "source": [
    "def cross_val_data(data_x, data_y, total_cls=10, n_train=250):\n",
    "    x = data_x.copy()\n",
    "    y = data_y.copy()\n",
    "    idx = [np.where(data_y == u)[0] for u in np.unique(data_y)]\n",
    "    for i in range(total_cls):\n",
    "        indx = idx[i]#np.roll(idx[i],(cv-1)*100)\n",
    "        random.shuffle(indx)\n",
    "        if i==0:\n",
    "            train_x1 = x[indx[0:n_train],:]\n",
    "            train_x2 = x[indx[n_train:n_train*2],:]\n",
    "            train_y1 = y[indx[0:n_train]]\n",
    "            train_y2 = y[indx[n_train:n_train*2]]\n",
    "            test_x = x[indx[500:600],:]\n",
    "            test_y = y[indx[500:600]]\n",
    "        else:\n",
    "            train_x1 = np.concatenate((train_x1, x[indx[0:250],:]), axis=0)\n",
    "            train_x2 = np.concatenate((train_x2, x[indx[250:500],:]), axis=0)\n",
    "            train_y1 = np.concatenate((train_y1, y[indx[0:250]]), axis=0)\n",
    "            train_y2 = np.concatenate((train_y2, y[indx[250:500]]), axis=0)\n",
    "            test_x = np.concatenate((test_x, x[indx[500:600],:]), axis=0)\n",
    "            test_y = np.concatenate((test_y, y[indx[500:600]]), axis=0)\n",
    "    return train_x1, train_y1, train_x2, train_y2, test_x, test_y"
   ]
  },
  {
   "cell_type": "code",
   "execution_count": 7,
   "metadata": {},
   "outputs": [],
   "source": [
    "def exp(angle, data_x, data_y, max_depth, reps=1, ntrees=29, acorn=None):\n",
    "    if acorn is not None:\n",
    "        np.random.seed(acorn)\n",
    "    errors = np.zeros(3)\n",
    "    ites_for_angles = {15:'500',30:'750',45:'1000',60:'3000'}\n",
    "    sitk_n_fails = 0\n",
    "    for rep in range(reps):\n",
    "        train_x1, train_y1, train_x2, train_y2, test_x, test_y = fn.cross_val_data(\n",
    "            data_x, data_y, total_cls=10\n",
    "        )\n",
    "        tmp_data = train_x2.copy()\n",
    "        tmp_data_sitk = train_x2.copy()\n",
    "        _tmp_ = np.zeros((32, 32, 3), dtype=int)\n",
    "        total_data = tmp_data.shape[0]\n",
    "\n",
    "        for i in range(3):\n",
    "            tmp_ = fn.image_aug(tmp_data[i], angle)\n",
    "            tmp_data[i] = tmp_\n",
    "            target = rotate(train_x2[i], angle)\n",
    "            try:\n",
    "                tmp_data_sitk[i] = run_elastix(template=train_x2[i], target=target, ite=ites_for_angles[angle])\n",
    "            except:\n",
    "                tmp_data_sitk[i] = tmp_\n",
    "                sitk_n_fails += 1\n",
    "\n",
    "        train_x1 = train_x1.reshape(\n",
    "            (train_x1.shape[0], train_x1.shape[1] * train_x1.shape[2] * train_x1.shape[3])\n",
    "        )\n",
    "        tmp_data = tmp_data.reshape(\n",
    "            (tmp_data.shape[0], tmp_data.shape[1] * tmp_data.shape[2] * tmp_data.shape[3])\n",
    "        )\n",
    "        test_x = test_x.reshape(\n",
    "            (test_x.shape[0], test_x.shape[1] * test_x.shape[2] * test_x.shape[3])\n",
    "        )\n",
    "        tmp_data_sitk = tmp_data_sitk.reshape(\n",
    "            (tmp_data_sitk.shape[0], tmp_data_sitk.shape[1] * tmp_data_sitk.shape[2] * tmp_data_sitk.shape[3])\n",
    "        )\n",
    "        \n",
    "        # L2F\n",
    "        progressive_learner = init_forest(ntrees, max_depth) \n",
    "        progressive_learner.add_task(X=train_x1, y=train_y1)\n",
    "        llf_single_task = progressive_learner.predict(test_x, task_id=0)\n",
    "        progressive_learner.add_transformer(X=tmp_data, y=train_y2)\n",
    "        llf_task1 = progressive_learner.predict(test_x, task_id=0)\n",
    "        \n",
    "        # L2F o sitk\n",
    "        progressive_learner = init_forest(ntrees, max_depth)\n",
    "        progressive_learner.add_task(X=train_x1, y=train_y1)\n",
    "        progressive_learner.add_transformer(X=tmp_data_sitk, y=train_y2)\n",
    "        llf_task1_sitk = progressive_learner.predict(test_x, task_id=0)\n",
    "\n",
    "        errors[1] = errors[1] + (1 - np.mean(llf_task1 == test_y))\n",
    "        errors[0] = errors[0] + (1 - np.mean(llf_single_task == test_y))\n",
    "        errors[2] = errors[1] + (1 - np.mean(llf_task1_sitk == test_y))\n",
    "\n",
    "    errors = (errors / reps)\n",
    "    return errors"
   ]
  },
  {
   "cell_type": "code",
   "execution_count": 8,
   "metadata": {},
   "outputs": [],
   "source": [
    "def run_elastix(template, target, ite):\n",
    "    elastixImageFilter = sitk.ElastixImageFilter()\n",
    "    elastixImageFilter.SetFixedImage(sitk.GetImageFromArray(template))\n",
    "    elastixImageFilter.SetMovingImage(sitk.GetImageFromArray(target))\n",
    "    ParamMap = sitk.GetDefaultParameterMap('affine')\n",
    "    ParamMap['AutomaticTransformInitialization'] = ['true']\n",
    "    ParamMap['AutomaticTransformInitializationMethod'] = ['GeometricalCenter']\n",
    "    ParamMap['MaximumNumberOfIterations'] = [ite]\n",
    "    ParamMap['UseDirectionCosines'] = ['true']\n",
    "    # ParamMap['NumberOfResolutions'] = ['2']\n",
    "    # ParamMap['NumberOfSpatialSamples'] = ['3000']\n",
    "    ParamMap['UseAdaptiveStepSizes'] = ['true']\n",
    "\n",
    "    # new\n",
    "    ParamMap[\"FixedImagePyramid\"] = [\"FixedShrinkingImagePyramid\"] \n",
    "    ParamMap[\"MovingImagePyramid\"] = [\"MovingShrinkingImagePyramid\"] \n",
    "    ParamMap[\"Transform\"] = [\"EulerTransform\"]\n",
    "    ParamMap['AutomaticScalesEstimation'] = [\"true\"]\n",
    "#     ParamMap['AutomaticParameterEstimation'] = ['false']\n",
    "    ParamMap['SP_A'] = ['50']\n",
    "    ParamMap['SP_alpha'] = ['0.6']\n",
    "#     ParamMap['Metric'] = ['NormalizedMutualInformation']\n",
    "    ParamMap['NewSamplesEveryIteration'] = ['true']\n",
    "#     ParamMap['NumberOfSpatialSamples'] = ['3000']\n",
    "#     ParamMap['SampleRegionSize'] = ['200']\n",
    "\n",
    "    # Set the parameter map:\n",
    "    elastixImageFilter.SetParameterMap(ParamMap)\n",
    "\n",
    "    # Register the 3D images:\n",
    "    elastixImageFilter.Execute()\n",
    "\n",
    "    # Get the registered image:\n",
    "    RegIm = elastixImageFilter.GetResultImage()\n",
    "    RegIm_array = sitk.GetArrayFromImage(RegIm)\n",
    "    diff = RegIm_array.max() - RegIm_array.min()\n",
    "    RegIm_array = (RegIm_array - RegIm_array.min()) / diff\n",
    "    return RegIm_array"
   ]
  },
  {
   "cell_type": "code",
   "execution_count": 9,
   "metadata": {},
   "outputs": [
    {
     "name": "stdout",
     "output_type": "stream",
     "text": [
      "/proglearn/docs/tutorials/functions\n"
     ]
    }
   ],
   "source": [
    "cd proglearn/docs/tutorials/functions/"
   ]
  },
  {
   "cell_type": "code",
   "execution_count": 10,
   "metadata": {},
   "outputs": [],
   "source": [
    "import rotation_cifar_functions as fn"
   ]
  },
  {
   "cell_type": "code",
   "execution_count": 11,
   "metadata": {},
   "outputs": [
    {
     "name": "stdout",
     "output_type": "stream",
     "text": [
      "/\n"
     ]
    }
   ],
   "source": [
    "cd ../../../.."
   ]
  },
  {
   "cell_type": "markdown",
   "metadata": {},
   "source": [
    "#### plot samples"
   ]
  },
  {
   "cell_type": "code",
   "execution_count": 12,
   "metadata": {},
   "outputs": [],
   "source": [
    "train_x1, train_y1, train_x2, train_y2, test_x, test_y = fn.cross_val_data(data_x, data_y, total_cls=10)"
   ]
  },
  {
   "cell_type": "code",
   "execution_count": 37,
   "metadata": {},
   "outputs": [],
   "source": [
    "i = 1500\n",
    "angle = 30\n",
    "template = train_x2[i]\n",
    "target = rotate(template, angle)"
   ]
  },
  {
   "cell_type": "code",
   "execution_count": 38,
   "metadata": {},
   "outputs": [],
   "source": [
    "RegIm = run_elastix(template, target, '750')"
   ]
  },
  {
   "cell_type": "code",
   "execution_count": 39,
   "metadata": {},
   "outputs": [
    {
     "data": {
      "text/plain": [
       "<matplotlib.image.AxesImage at 0x7fea16ae42e8>"
      ]
     },
     "execution_count": 39,
     "metadata": {},
     "output_type": "execute_result"
    },
    {
     "data": {
      "image/png": "[encoded data removed]",
      "text/plain": [
       "<Figure size 1440x288 with 5 Axes>"
      ]
     },
     "metadata": {
      "needs_background": "light"
     },
     "output_type": "display_data"
    }
   ],
   "source": [
    "fig,axs = plt.subplots(1,5, figsize=(20,4))\n",
    "axs[0].imshow(template)\n",
    "axs[1].imshow(target)\n",
    "axs[2].imshow(RegIm)\n",
    "axs[3].imshow(fn.image_aug(template,angle))\n",
    "axs[4].imshow(fn.image_aug(img_as_ubyte(RegIm),0))"
   ]
  },
  {
   "cell_type": "code",
   "execution_count": 34,
   "metadata": {},
   "outputs": [],
   "source": [
    "idx = 750\n",
    "i,j,k = rotate_img(train_x2, 30, idx)"
   ]
  },
  {
   "cell_type": "code",
   "execution_count": 35,
   "metadata": {
    "scrolled": true
   },
   "outputs": [
    {
     "data": {
      "text/plain": [
       "<matplotlib.image.AxesImage at 0x7f61e08ec8d0>"
      ]
     },
     "execution_count": 35,
     "metadata": {},
     "output_type": "execute_result"
    },
    {
     "data": {
      "image/png": "[encoded data removed]",
      "text/plain": [
       "<Figure size 1080x360 with 3 Axes>"
      ]
     },
     "metadata": {
      "needs_background": "light"
     },
     "output_type": "display_data"
    }
   ],
   "source": [
    "fig,axs = plt.subplots(1,3, figsize=(15,5))\n",
    "axs[0].imshow(train_x2[idx])\n",
    "axs[1].imshow(i)\n",
    "axs[2].imshow(j)"
   ]
  },
  {
   "cell_type": "code",
   "execution_count": 18,
   "metadata": {},
   "outputs": [
    {
     "data": {
      "text/plain": [
       "<matplotlib.image.AxesImage at 0x7fe9e3532cf8>"
      ]
     },
     "execution_count": 18,
     "metadata": {},
     "output_type": "execute_result"
    },
    {
     "data": {
      "image/png": "[encoded data removed]",
      "text/plain": [
       "<Figure size 1080x360 with 3 Axes>"
      ]
     },
     "metadata": {
      "needs_background": "light"
     },
     "output_type": "display_data"
    }
   ],
   "source": [
    "idx = 700; angle = 30; ites_for_angles = {15:'500',30:'750',45:'1000',60:'3000'}\n",
    "tmp_ = image_aug(train_x2[idx], angle)\n",
    "template = train_x2[idx]\n",
    "target = rotate(train_x2[idx], angle)\n",
    "tmp_sitk_ = run_elastix(template=template, target=target, ite=ites_for_angles[angle])\n",
    "fig,axs = plt.subplots(1,3,figsize=(15,5))\n",
    "axs[0].imshow(train_x2[idx])\n",
    "axs[2].imshow(image_aug(img_as_ubyte(tmp_sitk_),0))\n",
    "axs[1].imshow(tmp_)"
   ]
  },
  {
   "cell_type": "code",
   "execution_count": null,
   "metadata": {},
   "outputs": [],
   "source": []
  },
  {
   "cell_type": "code",
   "execution_count": null,
   "metadata": {},
   "outputs": [],
   "source": []
  },
  {
   "cell_type": "markdown",
   "metadata": {},
   "source": [
    "#### compute errors & BTE"
   ]
  },
  {
   "cell_type": "code",
   "execution_count": 12,
   "metadata": {},
   "outputs": [],
   "source": [
    "granularity = 20; max_depth = 30; reps = 2; ntrees=16\n",
    "# angle = 15\n",
    "# angles = np.arange(0, 181, granularity)\n",
    "angles = np.array([15, 30])"
   ]
  },
  {
   "cell_type": "code",
   "execution_count": 13,
   "metadata": {
    "scrolled": true
   },
   "outputs": [],
   "source": [
    "# errors_array = []\n",
    "# start_time = time.time()\n",
    "# with Pool(8) as p:\n",
    "#     errors_array.append(\n",
    "#         p.map(partial(exp, data_x=data_x, data_y=data_y, max_depth=max_depth, reps=reps, ntrees=16, acorn=1), angles)\n",
    "#     )\n",
    "# print(\"--- %s seconds ---\" % (time.time() - start_time))"
   ]
  },
  {
   "cell_type": "code",
   "execution_count": 22,
   "metadata": {},
   "outputs": [
    {
     "data": {
      "text/plain": [
       "[[array([0., 0., 0.]), array([0., 0., 0.])]]"
      ]
     },
     "execution_count": 22,
     "metadata": {},
     "output_type": "execute_result"
    }
   ],
   "source": [
    "errors_array"
   ]
  },
  {
   "cell_type": "code",
   "execution_count": 19,
   "metadata": {},
   "outputs": [],
   "source": [
    "def rotate_img(train_x2, angle, i):\n",
    "    ites_for_angles = {15:'500',30:'750',45:'1000',60:'3000'}\n",
    "    tmp_ = image_aug(train_x2[i], angle)\n",
    "    template = train_x2[i]\n",
    "    target = rotate(train_x2[i], angle)\n",
    "    sitk_fails = False\n",
    "    try:\n",
    "        tmp_sitk_ = run_elastix(template=template, target=target, ite=ites_for_angles[angle])\n",
    "    except:\n",
    "        tmp_sitk_ = target\n",
    "        sitk_fails = True\n",
    "    return tmp_, image_aug(img_as_ubyte(tmp_sitk_),0), sitk_fails\n"
   ]
  },
  {
   "cell_type": "code",
   "execution_count": 28,
   "metadata": {},
   "outputs": [],
   "source": [
    "def exp_parallel(angle, data_x, data_y, max_depth, ntrees=29):\n",
    "    errors = np.zeros(3)\n",
    "    train_x1, train_y1, train_x2, train_y2, test_x, test_y = fn.cross_val_data(\n",
    "        data_x, data_y, total_cls=10\n",
    "    )\n",
    "    total_data = train_x2.shape[0]\n",
    "\n",
    "    img_rot = Parallel(n_jobs=-1, verbose=1)(\n",
    "                delayed(rotate_img)(train_x2=train_x2, angle=angle , i=ite) for ite in range(total_data)\n",
    "            )\n",
    "    print(\"finished rotating images\")\n",
    "    tmp_data = np.array([img_rot[i][0] for i in range(len(img_rot))])\n",
    "    tmp_data_sitk = np.array([img_rot[i][1] for i in range(len(img_rot))])\n",
    "    sitk_n_fails = np.sum(np.array([img_rot[i][2] for i in range(len(img_rot))]))\n",
    "    \n",
    "    train_x1 = train_x1.reshape(\n",
    "        (train_x1.shape[0], train_x1.shape[1] * train_x1.shape[2] * train_x1.shape[3])\n",
    "    )\n",
    "    tmp_data = tmp_data.reshape(\n",
    "        (tmp_data.shape[0], tmp_data.shape[1] * tmp_data.shape[2] * tmp_data.shape[3])\n",
    "    )\n",
    "    test_x = test_x.reshape(\n",
    "        (test_x.shape[0], test_x.shape[1] * test_x.shape[2] * test_x.shape[3])\n",
    "    )\n",
    "    tmp_data_sitk = tmp_data_sitk.reshape(\n",
    "        (tmp_data_sitk.shape[0], tmp_data_sitk.shape[1] * tmp_data_sitk.shape[2] * tmp_data_sitk.shape[3])\n",
    "    )\n",
    "\n",
    "    # L2F\n",
    "    progressive_learner = init_forest(max_depth) \n",
    "    progressive_learner.add_task(\n",
    "        X = train_x1, y = train_y1,\n",
    "        transformer_voter_decider_split = [0.67, 0.33, 0],\n",
    "        decider_kwargs = {\"classes\" : np.unique(train_y1)}    \n",
    "    )\n",
    "    progressive_learner.add_transformer(\n",
    "        X = tmp_data, y = train_y2,\n",
    "        transformer_data_proportion = 1, backward_task_ids = [0]\n",
    "    )\n",
    "    llf_single_task = progressive_learner.predict(test_x, task_id=0, transformer_ids=[0])\n",
    "    llf_task1 = progressive_learner.predict(test_x, task_id=0)\n",
    "\n",
    "    # L2F o sitk\n",
    "    progressive_learner_sitk = init_forest(max_depth)\n",
    "    progressive_learner_sitk.add_task(\n",
    "        X = train_x1, y = train_y1,\n",
    "        transformer_voter_decider_split = [0.67, 0.33, 0],\n",
    "        decider_kwargs = {\"classes\" : np.unique(train_y1)}    \n",
    "    )\n",
    "    progressive_learner_sitk.add_transformer(\n",
    "        X = tmp_data_sitk, y = train_y2,\n",
    "        transformer_data_proportion = 1, backward_task_ids = [0]\n",
    "    )\n",
    "    llf_task1_sitk = progressive_learner_sitk.predict(test_x, task_id=0)\n",
    "\n",
    "    errors[0] = 1 - np.mean(llf_single_task == test_y)\n",
    "    errors[1] = 1 - np.mean(llf_task1 == test_y)\n",
    "    errors[2] = 1 - np.mean(llf_task1_sitk == test_y)\n",
    "    \n",
    "    return errors, sitk_n_fails"
   ]
  },
  {
   "cell_type": "code",
   "execution_count": 21,
   "metadata": {},
   "outputs": [],
   "source": [
    "max_depth = 30; ntrees = 16"
   ]
  },
  {
   "cell_type": "code",
   "execution_count": 22,
   "metadata": {
    "scrolled": true
   },
   "outputs": [
    {
     "name": "stderr",
     "output_type": "stream",
     "text": [
      "[Parallel(n_jobs=-1)]: Using backend LokyBackend with 5 concurrent workers.\n",
      "[Parallel(n_jobs=-1)]: Done  40 tasks      | elapsed:  2.1min\n",
      "[Parallel(n_jobs=-1)]: Done 190 tasks      | elapsed:  9.6min\n",
      "[Parallel(n_jobs=-1)]: Done 440 tasks      | elapsed: 21.6min\n",
      "[Parallel(n_jobs=-1)]: Done 750 out of 750 | elapsed: 36.8min finished\n"
     ]
    },
    {
     "name": "stdout",
     "output_type": "stream",
     "text": [
      "finished rotating images\n"
     ]
    }
   ],
   "source": [
    "errors_15_1, sitk_fail_15_1 = exp_parallel(\n",
    "    angle=15, data_x=data_x, data_y=data_y, max_depth=max_depth, ntrees=ntrees\n",
    ")"
   ]
  },
  {
   "cell_type": "code",
   "execution_count": 26,
   "metadata": {},
   "outputs": [
    {
     "data": {
      "text/plain": [
       "array([0.45666667, 0.42666667, 0.41333333])"
      ]
     },
     "execution_count": 26,
     "metadata": {},
     "output_type": "execute_result"
    }
   ],
   "source": [
    "print(errors_15_1, sitk_fail_15_1)"
   ]
  },
  {
   "cell_type": "code",
   "execution_count": 24,
   "metadata": {},
   "outputs": [
    {
     "name": "stdout",
     "output_type": "stream",
     "text": [
      "1.0703124994506836 1.1048387266519253\n"
     ]
    }
   ],
   "source": [
    "print(0.45666667/0.42666667, 0.45666667/0.41333333)"
   ]
  },
  {
   "cell_type": "code",
   "execution_count": 29,
   "metadata": {},
   "outputs": [
    {
     "name": "stderr",
     "output_type": "stream",
     "text": [
      "[Parallel(n_jobs=-1)]: Using backend LokyBackend with 5 concurrent workers.\n",
      "[Parallel(n_jobs=-1)]: Done  40 tasks      | elapsed:  3.0min\n",
      "[Parallel(n_jobs=-1)]: Done 190 tasks      | elapsed: 14.4min\n",
      "[Parallel(n_jobs=-1)]: Done 440 tasks      | elapsed: 32.8min\n",
      "[Parallel(n_jobs=-1)]: Done 790 tasks      | elapsed: 58.5min\n",
      "[Parallel(n_jobs=-1)]: Done 1240 tasks      | elapsed: 90.0min\n",
      "[Parallel(n_jobs=-1)]: Done 1790 tasks      | elapsed: 148.5min\n",
      "[Parallel(n_jobs=-1)]: Done 2440 tasks      | elapsed: 198.2min\n",
      "[Parallel(n_jobs=-1)]: Done 2500 out of 2500 | elapsed: 202.4min finished\n"
     ]
    },
    {
     "name": "stdout",
     "output_type": "stream",
     "text": [
      "finished rotating images\n"
     ]
    }
   ],
   "source": [
    "errors_30_1, sitk_fail_30_1 = exp_parallel(\n",
    "    angle=30, data_x=data_x, data_y=data_y, max_depth=max_depth, ntrees=ntrees\n",
    ")"
   ]
  },
  {
   "cell_type": "code",
   "execution_count": 30,
   "metadata": {},
   "outputs": [
    {
     "name": "stdout",
     "output_type": "stream",
     "text": [
      "[0.73  0.681 0.706] 16\n"
     ]
    }
   ],
   "source": [
    "print(errors_30_1, sitk_fail_30_1)"
   ]
  },
  {
   "cell_type": "code",
   "execution_count": 31,
   "metadata": {},
   "outputs": [
    {
     "name": "stderr",
     "output_type": "stream",
     "text": [
      "[Parallel(n_jobs=-1)]: Using backend LokyBackend with 5 concurrent workers.\n",
      "[Parallel(n_jobs=-1)]: Done  40 tasks      | elapsed:  1.9min\n",
      "[Parallel(n_jobs=-1)]: Done 190 tasks      | elapsed:  9.1min\n",
      "[Parallel(n_jobs=-1)]: Done 440 tasks      | elapsed: 20.8min\n",
      "[Parallel(n_jobs=-1)]: Done 790 tasks      | elapsed: 37.3min\n",
      "[Parallel(n_jobs=-1)]: Done 1240 tasks      | elapsed: 58.6min\n",
      "[Parallel(n_jobs=-1)]: Done 1790 tasks      | elapsed: 84.4min\n",
      "[Parallel(n_jobs=-1)]: Done 2440 tasks      | elapsed: 115.2min\n",
      "[Parallel(n_jobs=-1)]: Done 2500 out of 2500 | elapsed: 118.0min finished\n"
     ]
    },
    {
     "name": "stdout",
     "output_type": "stream",
     "text": [
      "finished rotating images\n"
     ]
    }
   ],
   "source": [
    "errors_15_1, sitk_fail_15_1 = exp_parallel(\n",
    "    angle=15, data_x=data_x, data_y=data_y, max_depth=max_depth, ntrees=ntrees\n",
    ")"
   ]
  },
  {
   "cell_type": "code",
   "execution_count": 32,
   "metadata": {},
   "outputs": [
    {
     "name": "stdout",
     "output_type": "stream",
     "text": [
      "[0.739 0.707 0.719] 8\n"
     ]
    }
   ],
   "source": [
    "print(errors_15_1, sitk_fail_15_1)"
   ]
  },
  {
   "cell_type": "code",
   "execution_count": 33,
   "metadata": {},
   "outputs": [
    {
     "name": "stderr",
     "output_type": "stream",
     "text": [
      "[Parallel(n_jobs=-1)]: Using backend LokyBackend with 5 concurrent workers.\n",
      "[Parallel(n_jobs=-1)]: Done  40 tasks      | elapsed:  1.9min\n",
      "[Parallel(n_jobs=-1)]: Done 190 tasks      | elapsed:  9.0min\n",
      "[Parallel(n_jobs=-1)]: Done 440 tasks      | elapsed: 20.9min\n",
      "[Parallel(n_jobs=-1)]: Done 790 tasks      | elapsed: 37.3min\n",
      "[Parallel(n_jobs=-1)]: Done 1240 tasks      | elapsed: 58.4min\n",
      "[Parallel(n_jobs=-1)]: Done 1790 tasks      | elapsed: 84.4min\n",
      "[Parallel(n_jobs=-1)]: Done 2440 tasks      | elapsed: 114.9min\n",
      "[Parallel(n_jobs=-1)]: Done 2500 out of 2500 | elapsed: 117.7min finished\n"
     ]
    },
    {
     "name": "stdout",
     "output_type": "stream",
     "text": [
      "finished rotating images\n"
     ]
    }
   ],
   "source": [
    "errors_15_2, sitk_fail_15_2 = exp_parallel(\n",
    "    angle=15, data_x=data_x, data_y=data_y, max_depth=max_depth, ntrees=ntrees\n",
    ")"
   ]
  },
  {
   "cell_type": "code",
   "execution_count": 34,
   "metadata": {},
   "outputs": [
    {
     "name": "stdout",
     "output_type": "stream",
     "text": [
      "[0.744 0.728 0.722] 8\n"
     ]
    }
   ],
   "source": [
    "print(errors_15_2, sitk_fail_15_2)"
   ]
  },
  {
   "cell_type": "code",
   "execution_count": 35,
   "metadata": {},
   "outputs": [
    {
     "name": "stderr",
     "output_type": "stream",
     "text": [
      "[Parallel(n_jobs=-1)]: Using backend LokyBackend with 5 concurrent workers.\n",
      "[Parallel(n_jobs=-1)]: Done  40 tasks      | elapsed:  2.8min\n",
      "[Parallel(n_jobs=-1)]: Done 190 tasks      | elapsed: 13.4min\n",
      "[Parallel(n_jobs=-1)]: Done 440 tasks      | elapsed: 30.8min\n",
      "[Parallel(n_jobs=-1)]: Done 790 tasks      | elapsed: 55.1min\n",
      "[Parallel(n_jobs=-1)]: Done 1240 tasks      | elapsed: 86.6min\n",
      "[Parallel(n_jobs=-1)]: Done 1790 tasks      | elapsed: 125.1min\n",
      "[Parallel(n_jobs=-1)]: Done 2440 tasks      | elapsed: 170.1min\n",
      "[Parallel(n_jobs=-1)]: Done 2500 out of 2500 | elapsed: 174.3min finished\n"
     ]
    },
    {
     "name": "stdout",
     "output_type": "stream",
     "text": [
      "finished rotating images\n"
     ]
    }
   ],
   "source": [
    "errors_30_2, sitk_fail_30_2 = exp_parallel(\n",
    "    angle=30, data_x=data_x, data_y=data_y, max_depth=max_depth, ntrees=ntrees\n",
    ")"
   ]
  },
  {
   "cell_type": "code",
   "execution_count": 36,
   "metadata": {},
   "outputs": [
    {
     "name": "stdout",
     "output_type": "stream",
     "text": [
      "[0.723 0.698 0.714] 16\n"
     ]
    }
   ],
   "source": [
    "print(errors_30_2, sitk_fail_30_2)"
   ]
  },
  {
   "cell_type": "code",
   "execution_count": null,
   "metadata": {},
   "outputs": [],
   "source": []
  },
  {
   "cell_type": "code",
   "execution_count": null,
   "metadata": {},
   "outputs": [],
   "source": []
  },
  {
   "cell_type": "code",
   "execution_count": null,
   "metadata": {},
   "outputs": [],
   "source": []
  },
  {
   "cell_type": "code",
   "execution_count": 101,
   "metadata": {},
   "outputs": [
    {
     "data": {
      "text/plain": [
       "<matplotlib.image.AxesImage at 0x7f1220f59278>"
      ]
     },
     "execution_count": 101,
     "metadata": {},
     "output_type": "execute_result"
    },
    {
     "data": {
      "image/png": "[encoded data removed]",
      "text/plain": [
       "<Figure size 1440x288 with 5 Axes>"
      ]
     },
     "metadata": {
      "needs_background": "light"
     },
     "output_type": "display_data"
    }
   ],
   "source": [
    "fig,axs = plt.subplots(1,5, figsize=(20,4))\n",
    "i = 2; j=302\n",
    "axs[1].imshow(tmp_data[i])\n",
    "axs[2].imshow(tmp_data_sitk[i])\n",
    "axs[0].imshow(train_x2[j])\n",
    "# axs[3].imshow(fn.image_aug(template,angle))\n",
    "# axs[4].imshow(fn.image_aug(img_as_ubyte(RegIm),0))"
   ]
  },
  {
   "cell_type": "code",
   "execution_count": null,
   "metadata": {},
   "outputs": [],
   "source": []
  },
  {
   "cell_type": "code",
   "execution_count": null,
   "metadata": {},
   "outputs": [],
   "source": []
  },
  {
   "cell_type": "code",
   "execution_count": null,
   "metadata": {},
   "outputs": [],
   "source": []
  },
  {
   "cell_type": "code",
   "execution_count": null,
   "metadata": {},
   "outputs": [],
   "source": []
  }
 ],
 "metadata": {
  "kernelspec": {
   "display_name": "simple-elastix",
   "language": "python",
   "name": "simple-elastix"
  },
  "language_info": {
   "codemirror_mode": {
    "name": "ipython",
    "version": 3
   },
   "file_extension": ".py",
   "mimetype": "text/x-python",
   "name": "python",
   "nbconvert_exporter": "python",
   "pygments_lexer": "ipython3",
   "version": "3.6.9"
  }
 },
 "nbformat": 4,
 "nbformat_minor": 4
}
