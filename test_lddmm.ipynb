{
 "cells": [
  {
   "cell_type": "code",
   "execution_count": 1,
   "metadata": {},
   "outputs": [],
   "source": [
    "import numpy as np\n",
    "from matplotlib import pyplot as plt\n",
    "from scipy import ndimage\n",
    "from scipy.ndimage import map_coordinates\n",
    "# from skimage.registration import diffeomorphic_metric_mapping\n",
    "from skimage.transform import resize, rescale, rotate\n",
    "from skimage.util import img_as_ubyte\n",
    "\n",
    "import requests\n",
    "from io import BytesIO\n",
    "import tifffile as tf\n",
    "import nrrd\n",
    "import pickle\n",
    "import random\n",
    "\n",
    "import seaborn as sns\n",
    "sns.set_context('talk')"
   ]
  },
  {
   "cell_type": "code",
   "execution_count": 2,
   "metadata": {
    "tags": []
   },
   "outputs": [
    {
     "output_type": "stream",
     "name": "stdout",
     "text": "/Users/TingshanLiu/Desktop/2020 fall/NDD\n"
    }
   ],
   "source": [
    "cd .."
   ]
  },
  {
   "cell_type": "code",
   "execution_count": 3,
   "metadata": {
    "tags": []
   },
   "outputs": [
    {
     "output_type": "stream",
     "name": "stdout",
     "text": "ln: _lddmm.py: File exists\n"
    }
   ],
   "source": [
    "!ln -s scikit-image/skimage/registration/_lddmm.py _lddmm.py"
   ]
  },
  {
   "cell_type": "code",
   "execution_count": 4,
   "metadata": {},
   "outputs": [],
   "source": [
    "from _lddmm import diffeomorphic_metric_mapping"
   ]
  },
  {
   "cell_type": "code",
   "execution_count": 5,
   "metadata": {},
   "outputs": [],
   "source": [
    "with open('data.pickle', 'rb') as f:\n",
    "     data = pickle.load(f)"
   ]
  },
  {
   "cell_type": "code",
   "execution_count": 6,
   "metadata": {},
   "outputs": [],
   "source": [
    "(X_train, y_train) = data[0]\n",
    "(X_test, y_test) = data[1]"
   ]
  },
  {
   "cell_type": "code",
   "execution_count": 7,
   "metadata": {},
   "outputs": [],
   "source": [
    "data_x = np.concatenate([X_train, X_test])\n",
    "# data_x = data_x.reshape((data_x.shape[0], data_x.shape[1] * data_x.shape[2] * data_x.shape[3]))\n",
    "data_y = np.concatenate([y_train, y_test])\n",
    "data_y = data_y[:, 0]"
   ]
  },
  {
   "cell_type": "code",
   "execution_count": 8,
   "metadata": {},
   "outputs": [],
   "source": [
    "def cross_val_data(data_x, data_y, total_cls=10):\n",
    "    x = data_x.copy()\n",
    "    y = data_y.copy()\n",
    "    idx = [np.where(data_y == u)[0] for u in np.unique(data_y)]\n",
    "\n",
    "\n",
    "    for i in range(total_cls):\n",
    "        indx = idx[i]#np.roll(idx[i],(cv-1)*100)\n",
    "        random.shuffle(indx)\n",
    "\n",
    "        if i==0:\n",
    "            train_x1 = x[indx[0:250],:]\n",
    "            train_x2 = x[indx[250:500],:]\n",
    "            train_y1 = y[indx[0:250]]\n",
    "            train_y2 = y[indx[250:500]]\n",
    "\n",
    "            test_x = x[indx[500:600],:]\n",
    "            test_y = y[indx[500:600]]\n",
    "        else:\n",
    "            train_x1 = np.concatenate((train_x1, x[indx[0:250],:]), axis=0)\n",
    "            train_x2 = np.concatenate((train_x2, x[indx[250:500],:]), axis=0)\n",
    "            train_y1 = np.concatenate((train_y1, y[indx[0:250]]), axis=0)\n",
    "            train_y2 = np.concatenate((train_y2, y[indx[250:500]]), axis=0)\n",
    "\n",
    "            test_x = np.concatenate((test_x, x[indx[500:600],:]), axis=0)\n",
    "            test_y = np.concatenate((test_y, y[indx[500:600]]), axis=0)\n",
    "\n",
    "\n",
    "    return train_x1, train_y1, train_x2, train_y2, test_x, test_y"
   ]
  },
  {
   "cell_type": "code",
   "execution_count": 10,
   "metadata": {
    "tags": []
   },
   "outputs": [],
   "source": [
    "train_x1, train_y1, train_x2, train_y2, test_x, test_y = cross_val_data(data_x, data_y, total_cls=10)"
   ]
  },
  {
   "cell_type": "code",
   "execution_count": 11,
   "metadata": {},
   "outputs": [],
   "source": [
    "def image_aug(pic, angle, centroid_x=23, centroid_y=23, win=16, scale=1.45):\n",
    "    im_sz = int(np.floor(pic.shape[0]*scale))\n",
    "    pic_ = np.uint8(np.zeros((im_sz,im_sz,3),dtype=int))\n",
    "\n",
    "    pic_[:,:,0] = ndimage.zoom(pic[:,:,0],scale)\n",
    "\n",
    "    pic_[:,:,1] = ndimage.zoom(pic[:,:,1],scale)\n",
    "    pic_[:,:,2] = ndimage.zoom(pic[:,:,2],scale)\n",
    "\n",
    "    image_aug = rotate(pic_, angle, resize=False)\n",
    "    #print(image_aug.shape)\n",
    "    image_aug_ = image_aug[centroid_x-win:centroid_x+win,centroid_y-win:centroid_y+win,:]\n",
    "\n",
    "    return img_as_ubyte(image_aug_)"
   ]
  },
  {
   "cell_type": "code",
   "execution_count": 114,
   "metadata": {},
   "outputs": [],
   "source": [
    "# w/ aug\n",
    "# angles = np.arange(0, 180, 30)\n",
    "angles = [30]\n",
    "tmp_data_all = {}\n",
    "for angle in angles:\n",
    "    tmp_data = train_x2.copy()\n",
    "    # _tmp_ = np.zeros((32,32,3), dtype=int)\n",
    "    total_data = tmp_data.shape[0]\n",
    "    for i in range(total_data):\n",
    "        tmp_ = image_aug(tmp_data[i], angle)\n",
    "        tmp_data[i] = tmp_\n",
    "    tmp_data_all[angle] = tmp_data"
   ]
  },
  {
   "cell_type": "code",
   "execution_count": 53,
   "metadata": {},
   "outputs": [],
   "source": [
    "# # w/o aug\n",
    "# # angles = np.arange(0, 180, 30)\n",
    "# tmp_data_all_NoAug = {}\n",
    "# for angle in angles:\n",
    "#     tmp_data = train_x2.copy()\n",
    "#     total_data = tmp_data.shape[0]\n",
    "#     for i in range(total_data):\n",
    "#         tmp_ = rotate(tmp_data[i], angle)\n",
    "#         tmp_data[i] = tmp_\n",
    "#     tmp_data_all_NoAug[angle] = tmp_data"
   ]
  },
  {
   "cell_type": "code",
   "execution_count": 17,
   "metadata": {},
   "outputs": [],
   "source": [
    "# with open('tmp_data_all.pickle', 'wb') as f:\n",
    "#     pickle.dump(tmp_data_all, f)"
   ]
  },
  {
   "cell_type": "code",
   "execution_count": 101,
   "metadata": {
    "tags": []
   },
   "outputs": [
    {
     "output_type": "stream",
     "name": "stdout",
     "text": "30\n0\n1\n2\n3\n4\n5\n6\n7\n8\n9\n10\n11\n12\n13\n14\n15\n16\n17\n18\n19\n"
    },
    {
     "output_type": "error",
     "ename": "LinAlgError",
     "evalue": "This exception may have been raised because thecontrast_polynomial_basis vectors were notindependent, i.e. the reference_image is constant.",
     "traceback": [
      "\u001b[0;31m---------------------------------------------------------------------------\u001b[0m",
      "\u001b[0;31mLinAlgError\u001b[0m                               Traceback (most recent call last)",
      "\u001b[0;32m~/Desktop/2020 fall/NDD/_lddmm.py\u001b[0m in \u001b[0;36m_compute_contrast_map\u001b[0;34m(self)\u001b[0m\n\u001b[1;32m    970\u001b[0m                         \u001b[0mbasis_transpose_moving_image\u001b[0m\u001b[0;34m,\u001b[0m\u001b[0;34m\u001b[0m\u001b[0m\n\u001b[0;32m--> 971\u001b[0;31m                         \u001b[0massume_a\u001b[0m\u001b[0;34m=\u001b[0m\u001b[0;34m\"pos\"\u001b[0m\u001b[0;34m,\u001b[0m\u001b[0;34m\u001b[0m\u001b[0m\n\u001b[0m\u001b[1;32m    972\u001b[0m                     )\n",
      "\u001b[0;32m~/opt/miniconda3/envs/TL_ProgL/lib/python3.7/site-packages/scipy/linalg/basic.py\u001b[0m in \u001b[0;36msolve\u001b[0;34m(a, b, sym_pos, lower, overwrite_a, overwrite_b, debug, check_finite, assume_a, transposed)\u001b[0m\n\u001b[1;32m    247\u001b[0m                            overwrite_b=overwrite_b)\n\u001b[0;32m--> 248\u001b[0;31m         \u001b[0m_solve_check\u001b[0m\u001b[0;34m(\u001b[0m\u001b[0mn\u001b[0m\u001b[0;34m,\u001b[0m \u001b[0minfo\u001b[0m\u001b[0;34m)\u001b[0m\u001b[0;34m\u001b[0m\u001b[0m\n\u001b[0m\u001b[1;32m    249\u001b[0m         \u001b[0mrcond\u001b[0m\u001b[0;34m,\u001b[0m \u001b[0minfo\u001b[0m \u001b[0;34m=\u001b[0m \u001b[0mpocon\u001b[0m\u001b[0;34m(\u001b[0m\u001b[0mlu\u001b[0m\u001b[0;34m,\u001b[0m \u001b[0manorm\u001b[0m\u001b[0;34m)\u001b[0m\u001b[0;34m\u001b[0m\u001b[0m\n",
      "\u001b[0;32m~/opt/miniconda3/envs/TL_ProgL/lib/python3.7/site-packages/scipy/linalg/basic.py\u001b[0m in \u001b[0;36m_solve_check\u001b[0;34m(n, info, lamch, rcond)\u001b[0m\n\u001b[1;32m     28\u001b[0m     \u001b[0;32melif\u001b[0m \u001b[0;36m0\u001b[0m \u001b[0;34m<\u001b[0m \u001b[0minfo\u001b[0m\u001b[0;34m:\u001b[0m\u001b[0;34m\u001b[0m\u001b[0m\n\u001b[0;32m---> 29\u001b[0;31m         \u001b[0;32mraise\u001b[0m \u001b[0mLinAlgError\u001b[0m\u001b[0;34m(\u001b[0m\u001b[0;34m'Matrix is singular.'\u001b[0m\u001b[0;34m)\u001b[0m\u001b[0;34m\u001b[0m\u001b[0m\n\u001b[0m\u001b[1;32m     30\u001b[0m \u001b[0;34m\u001b[0m\u001b[0m\n",
      "\u001b[0;31mLinAlgError\u001b[0m: Matrix is singular.",
      "\nThe above exception was the direct cause of the following exception:\n",
      "\u001b[0;31mLinAlgError\u001b[0m                               Traceback (most recent call last)",
      "\u001b[0;32m<ipython-input-101-9658c10e4725>\u001b[0m in \u001b[0;36m<module>\u001b[0;34m\u001b[0m\n\u001b[1;32m     11\u001b[0m         \u001b[0mreference_image\u001b[0m \u001b[0;34m=\u001b[0m \u001b[0mtrain_x2\u001b[0m\u001b[0;34m[\u001b[0m\u001b[0mi\u001b[0m\u001b[0;34m]\u001b[0m\u001b[0;34m\u001b[0m\u001b[0m\n\u001b[1;32m     12\u001b[0m         \u001b[0;32mtry\u001b[0m\u001b[0;34m:\u001b[0m\u001b[0;34m\u001b[0m\u001b[0m\n\u001b[0;32m---> 13\u001b[0;31m             \u001b[0mlddmm_output\u001b[0m \u001b[0;34m=\u001b[0m \u001b[0mdiffeomorphic_metric_mapping\u001b[0m\u001b[0;34m(\u001b[0m\u001b[0mreference_image\u001b[0m\u001b[0;34m,\u001b[0m \u001b[0mtarget_image\u001b[0m\u001b[0;34m)\u001b[0m\u001b[0;34m\u001b[0m\u001b[0m\n\u001b[0m\u001b[1;32m     14\u001b[0m         \u001b[0;32mexcept\u001b[0m \u001b[0mRuntimeError\u001b[0m\u001b[0;34m:\u001b[0m\u001b[0;34m\u001b[0m\u001b[0m\n\u001b[1;32m     15\u001b[0m             \u001b[0;32mtry\u001b[0m\u001b[0;34m:\u001b[0m\u001b[0;34m\u001b[0m\u001b[0m\n",
      "\u001b[0;32m~/Desktop/2020 fall/NDD/_lddmm.py\u001b[0m in \u001b[0;36mdiffeomorphic_metric_mapping\u001b[0;34m(reference_image, moving_image, reference_image_spacing, moving_image_spacing, deformative_stepsize, sigma_regularization, contrast_order, **kwargs)\u001b[0m\n\u001b[1;32m   1974\u001b[0m         )\n\u001b[1;32m   1975\u001b[0m \u001b[0;34m\u001b[0m\u001b[0m\n\u001b[0;32m-> 1976\u001b[0;31m         \u001b[0mlddmm\u001b[0m\u001b[0;34m.\u001b[0m\u001b[0mregister\u001b[0m\u001b[0;34m(\u001b[0m\u001b[0;34m)\u001b[0m\u001b[0;34m\u001b[0m\u001b[0m\n\u001b[0m\u001b[1;32m   1977\u001b[0m \u001b[0;34m\u001b[0m\u001b[0m\n\u001b[1;32m   1978\u001b[0m         \u001b[0;31m# Overwrite initials for next scale if applicable.\u001b[0m\u001b[0;34m\u001b[0m\u001b[0;34m\u001b[0m\u001b[0m\n",
      "\u001b[0;32m~/Desktop/2020 fall/NDD/_lddmm.py\u001b[0m in \u001b[0;36mregister\u001b[0;34m(self)\u001b[0m\n\u001b[1;32m    532\u001b[0m \u001b[0;34m\u001b[0m\u001b[0m\n\u001b[1;32m    533\u001b[0m             \u001b[0;31m# Compute contrast map.\u001b[0m\u001b[0;34m\u001b[0m\u001b[0;34m\u001b[0m\u001b[0m\n\u001b[0;32m--> 534\u001b[0;31m             \u001b[0mself\u001b[0m\u001b[0;34m.\u001b[0m\u001b[0m_compute_contrast_map\u001b[0m\u001b[0;34m(\u001b[0m\u001b[0;34m)\u001b[0m\u001b[0;34m\u001b[0m\u001b[0m\n\u001b[0m\u001b[1;32m    535\u001b[0m \u001b[0;34m\u001b[0m\u001b[0m\n\u001b[1;32m    536\u001b[0m             \u001b[0;31m# Compute affine gradient.\u001b[0m\u001b[0;34m\u001b[0m\u001b[0;34m\u001b[0m\u001b[0m\n",
      "\u001b[0;32m~/Desktop/2020 fall/NDD/_lddmm.py\u001b[0m in \u001b[0;36m_compute_contrast_map\u001b[0;34m(self)\u001b[0m\n\u001b[1;32m    976\u001b[0m                         \u001b[0;34m\"contrast_polynomial_basis vectors were not\"\u001b[0m\u001b[0;34m\u001b[0m\u001b[0m\n\u001b[1;32m    977\u001b[0m                         \u001b[0;34m\"independent, i.e. the reference_image is constant.\"\u001b[0m\u001b[0;34m\u001b[0m\u001b[0m\n\u001b[0;32m--> 978\u001b[0;31m                     ) from e\n\u001b[0m\u001b[1;32m    979\u001b[0m \u001b[0;34m\u001b[0m\u001b[0m\n\u001b[1;32m    980\u001b[0m     \u001b[0;32mdef\u001b[0m \u001b[0m_compute_affine_inv_gradient\u001b[0m\u001b[0;34m(\u001b[0m\u001b[0mself\u001b[0m\u001b[0;34m)\u001b[0m\u001b[0;34m:\u001b[0m\u001b[0;34m\u001b[0m\u001b[0m\n",
      "\u001b[0;31mLinAlgError\u001b[0m: This exception may have been raised because thecontrast_polynomial_basis vectors were notindependent, i.e. the reference_image is constant."
     ]
    }
   ],
   "source": [
    "# angles = np.arange(30, 180, 30)\n",
    "angles = [30]\n",
    "tmp_data_al_rotated_deformed = {}\n",
    "for angle in angles:\n",
    "    print(angle)\n",
    "    tmp_data = tmp_data_all[angle]\n",
    "    total_data = tmp_data.shape[0]\n",
    "    for i in range(total_data):\n",
    "        print(i)\n",
    "        target_image = tmp_data[i]\n",
    "        reference_image = train_x2[i]\n",
    "        try:\n",
    "            lddmm_output = diffeomorphic_metric_mapping(reference_image, target_image)\n",
    "        except RuntimeError:\n",
    "            try:\n",
    "                lddmm_output = diffeomorphic_metric_mapping(reference_image, target_image, affine_stepsize=0.1)\n",
    "            except RuntimeError:\n",
    "                try:\n",
    "                    lddmm_output = diffeomorphic_metric_mapping(reference_image, target_image, affine_stepsize=0.05)\n",
    "                except RuntimeError:\n",
    "                    lddmm_output = diffeomorphic_metric_mapping(reference_image, target_image, affine_stepsize=0.01)\n",
    "        deformed_target_image = map_coordinates(target_image,lddmm_output.moving_image_to_reference_image_transform)\n",
    "        tmp_data[i] = deformed_target_image\n",
    "    tmp_data_al_rotated_deformed[angle] = tmp_data"
   ]
  },
  {
   "cell_type": "code",
   "execution_count": 185,
   "metadata": {},
   "outputs": [],
   "source": [
    "i = 18\n",
    "target_image = tmp_data[i]\n",
    "reference_image = train_x2[i]\n",
    "lddmm_output = diffeomorphic_metric_mapping(reference_image, target_image, affine_stepsize=0.01)"
   ]
  },
  {
   "cell_type": "code",
   "execution_count": 186,
   "metadata": {},
   "outputs": [],
   "source": [
    "deformed_target_image = map_coordinates(target_image,lddmm_output.moving_image_to_reference_image_transform)"
   ]
  },
  {
   "cell_type": "code",
   "execution_count": 204,
   "metadata": {},
   "outputs": [
    {
     "output_type": "display_data",
     "data": {
      "text/plain": "<Figure size 864x288 with 3 Axes>",
      "image/svg+xml": "<?xml version=\"1.0\" encoding=\"utf-8\" standalone=\"no\"?>\n<!DOCTYPE svg PUBLIC \"-//W3C//DTD SVG 1.1//EN\"\n  \"http://www.w3.org/Graphics/SVG/1.1/DTD/svg11.dtd\">\n<!-- Created with matplotlib (https://matplotlib.org/) -->\n<svg height=\"231.018364pt\" version=\"1.1\" viewBox=\"0 0 684 231.018364\" width=\"684pt\" xmlns=\"http://www.w3.org/2000/svg\" xmlns:xlink=\"http://www.w3.org/1999/xlink\">\n <metadata>\n  <rdf:RDF xmlns:cc=\"http://creativecommons.org/ns#\" xmlns:dc=\"http://purl.org/dc/elements/1.1/\" xmlns:rdf=\"http://www.w3.org/1999/02/22-rdf-syntax-ns#\">\n   <cc:Work>\n    <dc:type rdf:resource=\"http://purl.org/dc/dcmitype/StillImage\"/>\n    <dc:date>2020-09-30T20:18:42.669313</dc:date>\n    <dc:format>image/svg+xml</dc:format>\n    <dc:creator>\n     <cc:Agent>\n      <dc:title>Matplotlib v3.3.2, https://matplotlib.org/</dc:title>\n     </cc:Agent>\n    </dc:creator>\n   </cc:Work>\n  </rdf:RDF>\n </metadata>\n <defs>\n  <style type=\"text/css\">*{stroke-linecap:butt;stroke-linejoin:round;}</style>\n </defs>\n <g id=\"figure_1\">\n  <g id=\"patch_1\">\n   <path d=\"M 0 231.018364 \nL 684 231.018364 \nL 684 0 \nL 0 0 \nz\n\" style=\"fill:none;\"/>\n  </g>\n  <g id=\"axes_1\">\n   <g clip-path=\"url(#pd12290d6f7)\">\n    <image height=\"197\" id=\"image63e6a9f6ba\" transform=\"scale(1 -1)translate(0 -197)\" width=\"197\" x=\"7.2\" xlink:href=\"data:image/png;base64,\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\" y=\"-26.818364\"/>\n   </g>\n   <g id=\"text_1\">\n    <!-- original -->\n    <g transform=\"translate(72.030276 20.877188)scale(0.18 -0.18)\">\n     <defs>\n      <path d=\"M 30.609375 48.390625 \nQ 23.390625 48.390625 19.1875 42.75 \nQ 14.984375 37.109375 14.984375 27.296875 \nQ 14.984375 17.484375 19.15625 11.84375 \nQ 23.34375 6.203125 30.609375 6.203125 \nQ 37.796875 6.203125 41.984375 11.859375 \nQ 46.1875 17.53125 46.1875 27.296875 \nQ 46.1875 37.015625 41.984375 42.703125 \nQ 37.796875 48.390625 30.609375 48.390625 \nz\nM 30.609375 56 \nQ 42.328125 56 49.015625 48.375 \nQ 55.71875 40.765625 55.71875 27.296875 \nQ 55.71875 13.875 49.015625 6.21875 \nQ 42.328125 -1.421875 30.609375 -1.421875 \nQ 18.84375 -1.421875 12.171875 6.21875 \nQ 5.515625 13.875 5.515625 27.296875 \nQ 5.515625 40.765625 12.171875 48.375 \nQ 18.84375 56 30.609375 56 \nz\n\" id=\"DejaVuSans-111\"/>\n      <path d=\"M 41.109375 46.296875 \nQ 39.59375 47.171875 37.8125 47.578125 \nQ 36.03125 48 33.890625 48 \nQ 26.265625 48 22.1875 43.046875 \nQ 18.109375 38.09375 18.109375 28.8125 \nL 18.109375 0 \nL 9.078125 0 \nL 9.078125 54.6875 \nL 18.109375 54.6875 \nL 18.109375 46.1875 \nQ 20.953125 51.171875 25.484375 53.578125 \nQ 30.03125 56 36.53125 56 \nQ 37.453125 56 38.578125 55.875 \nQ 39.703125 55.765625 41.0625 55.515625 \nz\n\" id=\"DejaVuSans-114\"/>\n      <path d=\"M 9.421875 54.6875 \nL 18.40625 54.6875 \nL 18.40625 0 \nL 9.421875 0 \nz\nM 9.421875 75.984375 \nL 18.40625 75.984375 \nL 18.40625 64.59375 \nL 9.421875 64.59375 \nz\n\" id=\"DejaVuSans-105\"/>\n      <path d=\"M 45.40625 27.984375 \nQ 45.40625 37.75 41.375 43.109375 \nQ 37.359375 48.484375 30.078125 48.484375 \nQ 22.859375 48.484375 18.828125 43.109375 \nQ 14.796875 37.75 14.796875 27.984375 \nQ 14.796875 18.265625 18.828125 12.890625 \nQ 22.859375 7.515625 30.078125 7.515625 \nQ 37.359375 7.515625 41.375 12.890625 \nQ 45.40625 18.265625 45.40625 27.984375 \nz\nM 54.390625 6.78125 \nQ 54.390625 -7.171875 48.1875 -13.984375 \nQ 42 -20.796875 29.203125 -20.796875 \nQ 24.46875 -20.796875 20.265625 -20.09375 \nQ 16.0625 -19.390625 12.109375 -17.921875 \nL 12.109375 -9.1875 \nQ 16.0625 -11.328125 19.921875 -12.34375 \nQ 23.78125 -13.375 27.78125 -13.375 \nQ 36.625 -13.375 41.015625 -8.765625 \nQ 45.40625 -4.15625 45.40625 5.171875 \nL 45.40625 9.625 \nQ 42.625 4.78125 38.28125 2.390625 \nQ 33.9375 0 27.875 0 \nQ 17.828125 0 11.671875 7.65625 \nQ 5.515625 15.328125 5.515625 27.984375 \nQ 5.515625 40.671875 11.671875 48.328125 \nQ 17.828125 56 27.875 56 \nQ 33.9375 56 38.28125 53.609375 \nQ 42.625 51.21875 45.40625 46.390625 \nL 45.40625 54.6875 \nL 54.390625 54.6875 \nz\n\" id=\"DejaVuSans-103\"/>\n      <path d=\"M 54.890625 33.015625 \nL 54.890625 0 \nL 45.90625 0 \nL 45.90625 32.71875 \nQ 45.90625 40.484375 42.875 44.328125 \nQ 39.84375 48.1875 33.796875 48.1875 \nQ 26.515625 48.1875 22.3125 43.546875 \nQ 18.109375 38.921875 18.109375 30.90625 \nL 18.109375 0 \nL 9.078125 0 \nL 9.078125 54.6875 \nL 18.109375 54.6875 \nL 18.109375 46.1875 \nQ 21.34375 51.125 25.703125 53.5625 \nQ 30.078125 56 35.796875 56 \nQ 45.21875 56 50.046875 50.171875 \nQ 54.890625 44.34375 54.890625 33.015625 \nz\n\" id=\"DejaVuSans-110\"/>\n      <path d=\"M 34.28125 27.484375 \nQ 23.390625 27.484375 19.1875 25 \nQ 14.984375 22.515625 14.984375 16.5 \nQ 14.984375 11.71875 18.140625 8.90625 \nQ 21.296875 6.109375 26.703125 6.109375 \nQ 34.1875 6.109375 38.703125 11.40625 \nQ 43.21875 16.703125 43.21875 25.484375 \nL 43.21875 27.484375 \nz\nM 52.203125 31.203125 \nL 52.203125 0 \nL 43.21875 0 \nL 43.21875 8.296875 \nQ 40.140625 3.328125 35.546875 0.953125 \nQ 30.953125 -1.421875 24.3125 -1.421875 \nQ 15.921875 -1.421875 10.953125 3.296875 \nQ 6 8.015625 6 15.921875 \nQ 6 25.140625 12.171875 29.828125 \nQ 18.359375 34.515625 30.609375 34.515625 \nL 43.21875 34.515625 \nL 43.21875 35.40625 \nQ 43.21875 41.609375 39.140625 45 \nQ 35.0625 48.390625 27.6875 48.390625 \nQ 23 48.390625 18.546875 47.265625 \nQ 14.109375 46.140625 10.015625 43.890625 \nL 10.015625 52.203125 \nQ 14.9375 54.109375 19.578125 55.046875 \nQ 24.21875 56 28.609375 56 \nQ 40.484375 56 46.34375 49.84375 \nQ 52.203125 43.703125 52.203125 31.203125 \nz\n\" id=\"DejaVuSans-97\"/>\n      <path d=\"M 9.421875 75.984375 \nL 18.40625 75.984375 \nL 18.40625 0 \nL 9.421875 0 \nz\n\" id=\"DejaVuSans-108\"/>\n     </defs>\n     <use xlink:href=\"#DejaVuSans-111\"/>\n     <use x=\"61.181641\" xlink:href=\"#DejaVuSans-114\"/>\n     <use x=\"102.294922\" xlink:href=\"#DejaVuSans-105\"/>\n     <use x=\"130.078125\" xlink:href=\"#DejaVuSans-103\"/>\n     <use x=\"193.554688\" xlink:href=\"#DejaVuSans-105\"/>\n     <use x=\"221.337891\" xlink:href=\"#DejaVuSans-110\"/>\n     <use x=\"284.716797\" xlink:href=\"#DejaVuSans-97\"/>\n     <use x=\"345.996094\" xlink:href=\"#DejaVuSans-108\"/>\n    </g>\n   </g>\n  </g>\n  <g id=\"axes_2\">\n   <g clip-path=\"url(#p33eb132447)\">\n    <image height=\"197\" id=\"imagee0499725f0\" transform=\"scale(1 -1)translate(0 -197)\" width=\"197\" x=\"243.529412\" xlink:href=\"data:image/png;base64,\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\" y=\"-26.818364\"/>\n   </g>\n   <g id=\"text_2\">\n    <!-- rotated -->\n    <g transform=\"translate(309.1725 20.877188)scale(0.18 -0.18)\">\n     <defs>\n      <path d=\"M 18.3125 70.21875 \nL 18.3125 54.6875 \nL 36.8125 54.6875 \nL 36.8125 47.703125 \nL 18.3125 47.703125 \nL 18.3125 18.015625 \nQ 18.3125 11.328125 20.140625 9.421875 \nQ 21.96875 7.515625 27.59375 7.515625 \nL 36.8125 7.515625 \nL 36.8125 0 \nL 27.59375 0 \nQ 17.1875 0 13.234375 3.875 \nQ 9.28125 7.765625 9.28125 18.015625 \nL 9.28125 47.703125 \nL 2.6875 47.703125 \nL 2.6875 54.6875 \nL 9.28125 54.6875 \nL 9.28125 70.21875 \nz\n\" id=\"DejaVuSans-116\"/>\n      <path d=\"M 56.203125 29.59375 \nL 56.203125 25.203125 \nL 14.890625 25.203125 \nQ 15.484375 15.921875 20.484375 11.0625 \nQ 25.484375 6.203125 34.421875 6.203125 \nQ 39.59375 6.203125 44.453125 7.46875 \nQ 49.3125 8.734375 54.109375 11.28125 \nL 54.109375 2.78125 \nQ 49.265625 0.734375 44.1875 -0.34375 \nQ 39.109375 -1.421875 33.890625 -1.421875 \nQ 20.796875 -1.421875 13.15625 6.1875 \nQ 5.515625 13.8125 5.515625 26.8125 \nQ 5.515625 40.234375 12.765625 48.109375 \nQ 20.015625 56 32.328125 56 \nQ 43.359375 56 49.78125 48.890625 \nQ 56.203125 41.796875 56.203125 29.59375 \nz\nM 47.21875 32.234375 \nQ 47.125 39.59375 43.09375 43.984375 \nQ 39.0625 48.390625 32.421875 48.390625 \nQ 24.90625 48.390625 20.390625 44.140625 \nQ 15.875 39.890625 15.1875 32.171875 \nz\n\" id=\"DejaVuSans-101\"/>\n      <path d=\"M 45.40625 46.390625 \nL 45.40625 75.984375 \nL 54.390625 75.984375 \nL 54.390625 0 \nL 45.40625 0 \nL 45.40625 8.203125 \nQ 42.578125 3.328125 38.25 0.953125 \nQ 33.9375 -1.421875 27.875 -1.421875 \nQ 17.96875 -1.421875 11.734375 6.484375 \nQ 5.515625 14.40625 5.515625 27.296875 \nQ 5.515625 40.1875 11.734375 48.09375 \nQ 17.96875 56 27.875 56 \nQ 33.9375 56 38.25 53.625 \nQ 42.578125 51.265625 45.40625 46.390625 \nz\nM 14.796875 27.296875 \nQ 14.796875 17.390625 18.875 11.75 \nQ 22.953125 6.109375 30.078125 6.109375 \nQ 37.203125 6.109375 41.296875 11.75 \nQ 45.40625 17.390625 45.40625 27.296875 \nQ 45.40625 37.203125 41.296875 42.84375 \nQ 37.203125 48.484375 30.078125 48.484375 \nQ 22.953125 48.484375 18.875 42.84375 \nQ 14.796875 37.203125 14.796875 27.296875 \nz\n\" id=\"DejaVuSans-100\"/>\n     </defs>\n     <use xlink:href=\"#DejaVuSans-114\"/>\n     <use x=\"38.863281\" xlink:href=\"#DejaVuSans-111\"/>\n     <use x=\"100.044922\" xlink:href=\"#DejaVuSans-116\"/>\n     <use x=\"139.253906\" xlink:href=\"#DejaVuSans-97\"/>\n     <use x=\"200.533203\" xlink:href=\"#DejaVuSans-116\"/>\n     <use x=\"239.742188\" xlink:href=\"#DejaVuSans-101\"/>\n     <use x=\"301.265625\" xlink:href=\"#DejaVuSans-100\"/>\n    </g>\n   </g>\n  </g>\n  <g id=\"axes_3\">\n   <g clip-path=\"url(#pf887813374)\">\n    <image height=\"197\" id=\"image7521a8e511\" transform=\"scale(1 -1)translate(0 -197)\" width=\"197\" x=\"479.858824\" xlink:href=\"data:image/png;base64,\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\" y=\"-26.818364\"/>\n   </g>\n   <g id=\"text_3\">\n    <!-- deformed_rotated -->\n    <g transform=\"translate(497.515037 20.877188)scale(0.18 -0.18)\">\n     <defs>\n      <path d=\"M 37.109375 75.984375 \nL 37.109375 68.5 \nL 28.515625 68.5 \nQ 23.6875 68.5 21.796875 66.546875 \nQ 19.921875 64.59375 19.921875 59.515625 \nL 19.921875 54.6875 \nL 34.71875 54.6875 \nL 34.71875 47.703125 \nL 19.921875 47.703125 \nL 19.921875 0 \nL 10.890625 0 \nL 10.890625 47.703125 \nL 2.296875 47.703125 \nL 2.296875 54.6875 \nL 10.890625 54.6875 \nL 10.890625 58.5 \nQ 10.890625 67.625 15.140625 71.796875 \nQ 19.390625 75.984375 28.609375 75.984375 \nz\n\" id=\"DejaVuSans-102\"/>\n      <path d=\"M 52 44.1875 \nQ 55.375 50.25 60.0625 53.125 \nQ 64.75 56 71.09375 56 \nQ 79.640625 56 84.28125 50.015625 \nQ 88.921875 44.046875 88.921875 33.015625 \nL 88.921875 0 \nL 79.890625 0 \nL 79.890625 32.71875 \nQ 79.890625 40.578125 77.09375 44.375 \nQ 74.3125 48.1875 68.609375 48.1875 \nQ 61.625 48.1875 57.5625 43.546875 \nQ 53.515625 38.921875 53.515625 30.90625 \nL 53.515625 0 \nL 44.484375 0 \nL 44.484375 32.71875 \nQ 44.484375 40.625 41.703125 44.40625 \nQ 38.921875 48.1875 33.109375 48.1875 \nQ 26.21875 48.1875 22.15625 43.53125 \nQ 18.109375 38.875 18.109375 30.90625 \nL 18.109375 0 \nL 9.078125 0 \nL 9.078125 54.6875 \nL 18.109375 54.6875 \nL 18.109375 46.1875 \nQ 21.1875 51.21875 25.484375 53.609375 \nQ 29.78125 56 35.6875 56 \nQ 41.65625 56 45.828125 52.96875 \nQ 50 49.953125 52 44.1875 \nz\n\" id=\"DejaVuSans-109\"/>\n      <path d=\"M 50.984375 -16.609375 \nL 50.984375 -23.578125 \nL -0.984375 -23.578125 \nL -0.984375 -16.609375 \nz\n\" id=\"DejaVuSans-95\"/>\n     </defs>\n     <use xlink:href=\"#DejaVuSans-100\"/>\n     <use x=\"63.476562\" xlink:href=\"#DejaVuSans-101\"/>\n     <use x=\"125\" xlink:href=\"#DejaVuSans-102\"/>\n     <use x=\"160.205078\" xlink:href=\"#DejaVuSans-111\"/>\n     <use x=\"221.386719\" xlink:href=\"#DejaVuSans-114\"/>\n     <use x=\"260.75\" xlink:href=\"#DejaVuSans-109\"/>\n     <use x=\"358.162109\" xlink:href=\"#DejaVuSans-101\"/>\n     <use x=\"419.685547\" xlink:href=\"#DejaVuSans-100\"/>\n     <use x=\"483.162109\" xlink:href=\"#DejaVuSans-95\"/>\n     <use x=\"533.162109\" xlink:href=\"#DejaVuSans-114\"/>\n     <use x=\"572.025391\" xlink:href=\"#DejaVuSans-111\"/>\n     <use x=\"633.207031\" xlink:href=\"#DejaVuSans-116\"/>\n     <use x=\"672.416016\" xlink:href=\"#DejaVuSans-97\"/>\n     <use x=\"733.695312\" xlink:href=\"#DejaVuSans-116\"/>\n     <use x=\"772.904297\" xlink:href=\"#DejaVuSans-101\"/>\n     <use x=\"834.427734\" xlink:href=\"#DejaVuSans-100\"/>\n    </g>\n   </g>\n  </g>\n </g>\n <defs>\n  <clipPath id=\"pd12290d6f7\">\n   <rect height=\"196.941176\" width=\"196.941176\" x=\"7.2\" y=\"26.877188\"/>\n  </clipPath>\n  <clipPath id=\"p33eb132447\">\n   <rect height=\"196.941176\" width=\"196.941176\" x=\"243.529412\" y=\"26.877188\"/>\n  </clipPath>\n  <clipPath id=\"pf887813374\">\n   <rect height=\"196.941176\" width=\"196.941176\" x=\"479.858824\" y=\"26.877188\"/>\n  </clipPath>\n </defs>\n</svg>\n",
      "image/png": "[encoded data removed]"
     },
     "metadata": {
      "needs_background": "light"
     }
    }
   ],
   "source": [
    "fig,axs = plt.subplots(1,3,figsize=(12,4))\n",
    "pics = [reference_image, target_image, deformed_target_image]\n",
    "names = [\"original\", \"rotated\", \"deformed_rotated\"]\n",
    "for i in range(len(pics)):\n",
    "    ax = axs[i]\n",
    "    ax.imshow(pics[i])\n",
    "    ax.set(title=names[i])\n",
    "    ax.axis(\"off\")"
   ]
  }
 ],
 "metadata": {
  "language_info": {
   "codemirror_mode": {
    "name": "ipython",
    "version": 3
   },
   "file_extension": ".py",
   "mimetype": "text/x-python",
   "name": "python",
   "nbconvert_exporter": "python",
   "pygments_lexer": "ipython3",
   "version": "3.7.0-final"
  },
  "orig_nbformat": 2,
  "kernelspec": {
   "name": "python37064bittlproglvirtualenv8e7fdc8b0b07461c97bffb222a0b66a2",
   "display_name": "Python 3.7.0 64-bit ('TL_ProgL': virtualenv)"
  }
 },
 "nbformat": 4,
 "nbformat_minor": 2
}