{
 "cells": [
  {
   "cell_type": "markdown",
   "metadata": {},
   "source": [
    "#### CIFAR exp (varying task sample)"
   ]
  },
  {
   "cell_type": "code",
   "execution_count": 1,
   "metadata": {},
   "outputs": [],
   "source": [
    "import random\n",
    "import matplotlib.pyplot as plt\n",
    "import tensorflow as tf\n",
    "import keras\n",
    "from keras import layers\n",
    "from itertools import product\n",
    "import pandas as pd\n",
    "\n",
    "import numpy as np\n",
    "import pickle\n",
    "\n",
    "from sklearn.model_selection import StratifiedKFold\n",
    "from math import log2, ceil\n",
    "\n",
    "import sys\n",
    "from joblib import Parallel, delayed\n",
    "from multiprocessing import Pool\n",
    "\n",
    "from proglearn import ProgressiveLearner\n",
    "from proglearn import SimpleArgmaxAverage\n",
    "from proglearn import NeuralClassificationTransformer, TreeClassificationTransformer\n",
    "from proglearn import TreeClassificationVoter, KNNClassificationVoter\n",
    "\n",
    "import tensorflow as tf\n",
    "from numbers import Number\n",
    "from collections import Set, Mapping, deque\n",
    "\n",
    "import time"
   ]
  },
  {
   "cell_type": "code",
   "execution_count": 8,
   "metadata": {},
   "outputs": [],
   "source": [
    "n_task = 10"
   ]
  },
  {
   "cell_type": "code",
   "execution_count": 9,
   "metadata": {},
   "outputs": [],
   "source": [
    "def LF_experiment(train_x, train_y, test_x, test_y, ntrees, shift, slot, model, num_points_per_task, acorn=None):\n",
    "\n",
    "    df = pd.DataFrame()\n",
    "    single_task_accuracies = np.zeros(10,dtype=float)\n",
    "    shifts = []\n",
    "    tasks = []\n",
    "    base_tasks = []\n",
    "    accuracies_across_tasks = []\n",
    "    train_times_across_tasks = []\n",
    "    single_task_inference_times_across_tasks = []\n",
    "    multitask_inference_times_across_tasks = []\n",
    "    model_size = []\n",
    "\n",
    "    if model == \"uf\":\n",
    "        default_transformer_class = TreeClassificationTransformer\n",
    "        default_transformer_kwargs = {\"kwargs\" : {\"max_depth\" : None, \"max_features\" : \"auto\"}}\n",
    "\n",
    "        default_voter_class = TreeClassificationVoter\n",
    "        default_voter_kwargs = {}\n",
    "\n",
    "        default_decider_class = SimpleArgmaxAverage\n",
    "\n",
    "\n",
    "    progressive_learner = ProgressiveLearner(default_transformer_class = default_transformer_class,\n",
    "                                         default_transformer_kwargs = default_transformer_kwargs,\n",
    "                                         default_voter_class = default_voter_class,\n",
    "                                         default_voter_kwargs = default_voter_kwargs,\n",
    "                                         default_decider_class = default_decider_class)\n",
    "\n",
    "    for task_ii in range(n_task):\n",
    "        print(\"Starting Task {} For Fold {}\".format(task_ii, shift))\n",
    "        if acorn is not None:\n",
    "            np.random.seed(acorn)\n",
    "\n",
    "            reduced_sample_no = int(num_points_per_task*(1.29**task_ii))\n",
    "\n",
    "            print(reduced_sample_no)\n",
    "\n",
    "        train_start_time = time.time()\n",
    "        progressive_learner.add_task(\n",
    "            X = train_x[task_ii*5000+slot*reduced_sample_no:task_ii*5000+(slot+1)*reduced_sample_no],\n",
    "            y = train_y[task_ii*5000+slot*reduced_sample_no:task_ii*5000+(slot+1)*reduced_sample_no],\n",
    "            num_transformers = 1 if model == \"dnn\" else ntrees,\n",
    "            transformer_voter_decider_split = [0.67, 0.33, 0],\n",
    "            decider_kwargs = {\"classes\" : np.unique(train_y[task_ii*5000+slot*reduced_sample_no:task_ii*5000+(slot+1)*reduced_sample_no])}\n",
    "            )\n",
    "        train_end_time = time.time()\n",
    "\n",
    "        train_times_across_tasks.append(train_end_time - train_start_time)\n",
    "        model_size.append(getsize(progressive_learner))\n",
    "        print(model_size)\n",
    "\n",
    "        single_task_inference_start_time = time.time()\n",
    "        llf_task=progressive_learner.predict(\n",
    "            X = test_x[task_ii*1000:(task_ii+1)*1000,:], transformer_ids=[task_ii], task_id=task_ii\n",
    "            )\n",
    "        single_task_inference_end_time = time.time()\n",
    "        single_task_accuracies[task_ii] = np.mean(\n",
    "                llf_task == test_y[task_ii*1000:(task_ii+1)*1000]\n",
    "                    )\n",
    "        single_task_inference_times_across_tasks.append(single_task_inference_end_time - single_task_inference_start_time)\n",
    "\n",
    "\n",
    "\n",
    "        for task_jj in range(task_ii+1):\n",
    "            multitask_inference_start_time = time.time()\n",
    "            llf_task=progressive_learner.predict(\n",
    "                X = test_x[task_jj*1000:(task_jj+1)*1000,:], task_id=task_jj\n",
    "                )\n",
    "            multitask_inference_end_time = time.time()\n",
    "\n",
    "            shifts.append(shift)\n",
    "            tasks.append(task_jj+1)\n",
    "            base_tasks.append(task_ii+1)\n",
    "            accuracies_across_tasks.append(np.mean(\n",
    "                llf_task == test_y[task_jj*1000:(task_jj+1)*1000]\n",
    "                ))\n",
    "            multitask_inference_times_across_tasks.append(multitask_inference_end_time - multitask_inference_start_time)\n",
    "\n",
    "    df['data_fold'] = shifts\n",
    "    df['task'] = tasks\n",
    "    df['base_task'] = base_tasks\n",
    "    df['accuracy'] = accuracies_across_tasks\n",
    "    df['multitask_inference_times'] = multitask_inference_times_across_tasks\n",
    "\n",
    "\n",
    "    df_single_task = pd.DataFrame()\n",
    "    df_single_task['task'] = range(1, 11)\n",
    "    df_single_task['data_fold'] = shift\n",
    "    df_single_task['accuracy'] = single_task_accuracies\n",
    "    df_single_task['single_task_inference_times'] = single_task_inference_times_across_tasks\n",
    "    df_single_task['train_times'] = train_times_across_tasks\n",
    "    df_single_task['model_size'] = model_size\n",
    "\n",
    "    summary = (df,df_single_task)\n",
    "    file_to_save = 'result/result/increased_sample_'+model+str(ntrees)+'_'+str(shift)+'_'+str(slot)+'.pickle'\n",
    "    with open(file_to_save, 'wb') as f:\n",
    "        pickle.dump(summary, f)"
   ]
  },
  {
   "cell_type": "code",
   "execution_count": 15,
   "metadata": {},
   "outputs": [],
   "source": [
    "# with open('data.pickle', 'wb') as f:\n",
    "#     pickle.dump(data, f)"
   ]
  },
  {
   "cell_type": "code",
   "execution_count": 10,
   "metadata": {},
   "outputs": [],
   "source": [
    "# The method randomly selects training and testing subsets from the original datasets,\n",
    "# making cross-validation on program results possible.\n",
    "\n",
    "def cross_val_data(data_x, data_y, num_points_per_task, total_task=n_task, shift=1):\n",
    "    x = data_x.copy()\n",
    "    y = data_y.copy()\n",
    "    idx = [np.where(data_y == u)[0] for u in np.unique(data_y)]\n",
    "\n",
    "    batch_per_task=5000//num_points_per_task\n",
    "    sample_per_class = num_points_per_task//total_task\n",
    "    test_data_slot=100//batch_per_task\n",
    "\n",
    "    for task in range(total_task):\n",
    "        for batch in range(batch_per_task):\n",
    "            for class_no in range(task*10,(task+1)*10,1):\n",
    "                indx = np.roll(idx[class_no],(shift-1)*100)\n",
    "\n",
    "                if batch==0 and class_no==0 and task==0:\n",
    "                    train_x = x[indx[batch*sample_per_class:(batch+1)*sample_per_class],:]\n",
    "                    train_y = y[indx[batch*sample_per_class:(batch+1)*sample_per_class]]\n",
    "                    test_x = x[indx[batch*test_data_slot+500:(batch+1)*test_data_slot+500],:]\n",
    "                    test_y = y[indx[batch*test_data_slot+500:(batch+1)*test_data_slot+500]]\n",
    "                else:\n",
    "                    train_x = np.concatenate((train_x, x[indx[batch*sample_per_class:(batch+1)*sample_per_class],:]), axis=0)\n",
    "                    train_y = np.concatenate((train_y, y[indx[batch*sample_per_class:(batch+1)*sample_per_class]]), axis=0)\n",
    "                    test_x = np.concatenate((test_x, x[indx[batch*test_data_slot+500:(batch+1)*test_data_slot+500],:]), axis=0)\n",
    "                    test_y = np.concatenate((test_y, y[indx[batch*test_data_slot+500:(batch+1)*test_data_slot+500]]), axis=0)\n",
    "\n",
    "    return train_x, train_y, test_x, test_y"
   ]
  },
  {
   "cell_type": "code",
   "execution_count": 11,
   "metadata": {},
   "outputs": [],
   "source": [
    "def run_parallel_exp(data_x, data_y, n_trees, model, num_points_per_task, slot=0, shift=1):\n",
    "    train_x, train_y, test_x, test_y = cross_val_data(data_x, data_y, 500, shift=shift)\n",
    "\n",
    "    if model == \"dnn\":\n",
    "        config = tf.compat.v1.ConfigProto()\n",
    "        config.gpu_options.allow_growth = True\n",
    "        sess = tf.compat.v1.Session(config=config)\n",
    "        with tf.device('/gpu:'+str(shift % 4)):\n",
    "            LF_experiment(train_x, train_y, test_x, test_y, n_trees, shift, slot, model, num_points_per_task, acorn=12345)\n",
    "    else:\n",
    "        LF_experiment(train_x, train_y, test_x, test_y, n_trees, shift, slot, model, num_points_per_task, acorn=12345)\n"
   ]
  },
  {
   "cell_type": "code",
   "execution_count": 17,
   "metadata": {},
   "outputs": [],
   "source": [
    "def getsize(obj_0):\n",
    "    \"\"\"Recursively iterate to sum size of object & members.\"\"\"\n",
    "    _seen_ids = set()\n",
    "    def inner(obj):\n",
    "        obj_id = id(obj)\n",
    "        if obj_id in _seen_ids:\n",
    "            return 0\n",
    "        _seen_ids.add(obj_id)\n",
    "        size = sys.getsizeof(obj)\n",
    "        if isinstance(obj, zero_depth_bases):\n",
    "            pass # bypass remaining control flow and return\n",
    "        elif isinstance(obj, (tuple, list, Set, deque)):\n",
    "            size += sum(inner(i) for i in obj)\n",
    "        elif isinstance(obj, Mapping) or hasattr(obj, iteritems):\n",
    "            size += sum(inner(k) + inner(v) for k, v in getattr(obj, iteritems)())\n",
    "        # Check for custom object instances - may subclass above too\n",
    "        if hasattr(obj, '__dict__'):\n",
    "            size += inner(vars(obj))\n",
    "        if hasattr(obj, '__slots__'): # can have __slots__ with __dict__\n",
    "            size += sum(inner(getattr(obj, s)) for s in obj.__slots__ if hasattr(obj, s))\n",
    "        return size\n",
    "    return inner(obj_0)"
   ]
  },
  {
   "cell_type": "code",
   "execution_count": 19,
   "metadata": {},
   "outputs": [],
   "source": [
    "try: # Python 2\n",
    "    zero_depth_bases = (basestring, Number, xrange, bytearray)\n",
    "    iteritems = 'iteritems'\n",
    "except NameError: # Python 3\n",
    "    zero_depth_bases = (str, bytes, Number, range, bytearray)\n",
    "    iteritems = 'items'"
   ]
  },
  {
   "cell_type": "code",
   "execution_count": 12,
   "metadata": {},
   "outputs": [],
   "source": [
    "model = \"uf\"\n",
    "num_points_per_task = 500\n",
    "total_slots = 1 #5000//num_points_per_task"
   ]
  },
  {
   "cell_type": "code",
   "execution_count": 10,
   "metadata": {},
   "outputs": [],
   "source": [
    "# (X_train, y_train), (X_test, y_test) = keras.datasets.cifar100.load_data()\n",
    "# data = ((X_train, y_train),(X_test, y_test))"
   ]
  },
  {
   "cell_type": "code",
   "execution_count": 13,
   "metadata": {},
   "outputs": [],
   "source": [
    "with open('data.pickle', 'rb') as f:\n",
    "     data = pickle.load(f)"
   ]
  },
  {
   "cell_type": "code",
   "execution_count": 14,
   "metadata": {},
   "outputs": [],
   "source": [
    "(X_train, y_train) = data[0]\n",
    "(X_test, y_test) = data[1]"
   ]
  },
  {
   "cell_type": "code",
   "execution_count": 15,
   "metadata": {
    "tags": []
   },
   "outputs": [],
   "source": [
    "data_x = np.concatenate([X_train, X_test])\n",
    "if model == \"uf\":\n",
    "    data_x = data_x.reshape((data_x.shape[0], data_x.shape[1] * data_x.shape[2] * data_x.shape[3]))\n",
    "data_y = np.concatenate([y_train, y_test])\n",
    "data_y = data_y[:, 0]"
   ]
  },
  {
   "cell_type": "code",
   "execution_count": 21,
   "metadata": {
    "tags": []
   },
   "outputs": [
    {
     "output_type": "stream",
     "name": "stderr",
     "text": "[Parallel(n_jobs=-2)]: Using backend LokyBackend with 7 concurrent workers.\n[Parallel(n_jobs=-2)]: Done   6 out of   6 | elapsed:  5.0min finished\n"
    }
   ],
   "source": [
    "if model == \"uf\":\n",
    "    slot_fold = range(total_slots)\n",
    "    shift_fold = range(1,7,1)\n",
    "    n_trees=[10]\n",
    "    iterable = product(n_trees,shift_fold,slot_fold)\n",
    "    Parallel(n_jobs=-2,verbose=1)(\n",
    "        delayed(run_parallel_exp)(\n",
    "                data_x, data_y, ntree, model, num_points_per_task, slot=slot, shift=shift\n",
    "                ) for ntree,shift,slot in iterable\n",
    "                )"
   ]
  },
  {
   "cell_type": "code",
   "execution_count": 23,
   "metadata": {},
   "outputs": [],
   "source": [
    "with open('result/result/increased_sample_uf10_1_0.pickle', 'rb') as f:\n",
    "     r1 = pickle.load(f)"
   ]
  },
  {
   "cell_type": "code",
   "execution_count": null,
   "metadata": {},
   "outputs": [],
   "source": []
  },
  {
   "cell_type": "markdown",
   "metadata": {},
   "source": [
    "#### CIFAR rotation exp"
   ]
  },
  {
   "cell_type": "code",
   "execution_count": 47,
   "metadata": {},
   "outputs": [],
   "source": [
    "import matplotlib.pyplot as plt\n",
    "import random\n",
    "import pickle\n",
    "# from skimage.transform import rotate\n",
    "from scipy import ndimage\n",
    "from skimage.util import img_as_ubyte\n",
    "from joblib import Parallel, delayed\n",
    "from sklearn.ensemble.forest import _generate_unsampled_indices\n",
    "from sklearn.ensemble.forest import _generate_sample_indices\n",
    "import numpy as np\n",
    "from sklearn.ensemble import BaggingClassifier\n",
    "from sklearn.tree import DecisionTreeClassifier\n",
    "from itertools import product\n",
    "import keras\n",
    "\n",
    "from keras import layers\n",
    "\n",
    "from joblib import Parallel, delayed\n",
    "from multiprocessing import Pool\n",
    "\n",
    "import tensorflow as tf\n",
    "\n",
    "# from numba import cuda\n",
    "\n",
    "from proglearn.progressive_learner import ProgressiveLearner\n",
    "from proglearn.deciders import SimpleArgmaxAverage\n",
    "from proglearn.transformers import TreeClassificationTransformer, NeuralClassificationTransformer\n",
    "from proglearn.voters import TreeClassificationVoter, KNNClassificationVoter"
   ]
  },
  {
   "cell_type": "code",
   "execution_count": 48,
   "metadata": {},
   "outputs": [],
   "source": [
    "def cross_val_data(data_x, data_y, total_cls=10):\n",
    "    x = data_x.copy()\n",
    "    y = data_y.copy()\n",
    "    idx = [np.where(data_y == u)[0] for u in np.unique(data_y)]\n",
    "\n",
    "\n",
    "    for i in range(total_cls):\n",
    "        indx = idx[i]#np.roll(idx[i],(cv-1)*100)\n",
    "        random.shuffle(indx)\n",
    "\n",
    "        if i==0:\n",
    "            train_x1 = x[indx[0:250],:]\n",
    "            train_x2 = x[indx[250:500],:]\n",
    "            train_y1 = y[indx[0:250]]\n",
    "            train_y2 = y[indx[250:500]]\n",
    "\n",
    "            test_x = x[indx[500:600],:]\n",
    "            test_y = y[indx[500:600]]\n",
    "        else:\n",
    "            train_x1 = np.concatenate((train_x1, x[indx[0:250],:]), axis=0)\n",
    "            train_x2 = np.concatenate((train_x2, x[indx[250:500],:]), axis=0)\n",
    "            train_y1 = np.concatenate((train_y1, y[indx[0:250]]), axis=0)\n",
    "            train_y2 = np.concatenate((train_y2, y[indx[250:500]]), axis=0)\n",
    "\n",
    "            test_x = np.concatenate((test_x, x[indx[500:600],:]), axis=0)\n",
    "            test_y = np.concatenate((test_y, y[indx[500:600]]), axis=0)\n",
    "\n",
    "\n",
    "    return train_x1, train_y1, train_x2, train_y2, test_x, test_y"
   ]
  },
  {
   "cell_type": "code",
   "execution_count": 53,
   "metadata": {},
   "outputs": [],
   "source": [
    "def LF_experiment(data_x, data_y, angle, model, granularity, reps=1, ntrees=29, acorn=None):\n",
    "    if acorn is not None:\n",
    "        np.random.seed(acorn)\n",
    "\n",
    "    errors = np.zeros(2)\n",
    "\n",
    "    with tf.device('/gpu:'+str(int(angle //  granularity) % 4)):\n",
    "        for rep in range(reps):\n",
    "            train_x1, train_y1, train_x2, train_y2, test_x, test_y = cross_val_data(data_x, data_y, total_cls=10)\n",
    "\n",
    "\n",
    "            #change data angle for second task\n",
    "            # tmp_data = train_x2.copy()\n",
    "            # _tmp_ = np.zeros((32,32,3), dtype=int)\n",
    "            # total_data = tmp_data.shape[0]\n",
    "\n",
    "            # for i in range(total_data):\n",
    "            #     tmp_ = image_aug(tmp_data[i],angle)\n",
    "            #     tmp_data[i] = tmp_\n",
    "            tmp_data = tmp_data_all[angle]\n",
    "\n",
    "            if model == \"uf\":\n",
    "                train_x1 = train_x1.reshape((train_x1.shape[0], train_x1.shape[1] * train_x1.shape[2] * train_x1.shape[3]))\n",
    "                tmp_data = tmp_data.reshape((tmp_data.shape[0], tmp_data.shape[1] * tmp_data.shape[2] * tmp_data.shape[3]))\n",
    "                test_x = test_x.reshape((test_x.shape[0], test_x.shape[1] * test_x.shape[2] * test_x.shape[3]))\n",
    "\n",
    "            if model == \"uf\":\n",
    "                default_transformer_class = TreeClassificationTransformer\n",
    "                default_transformer_kwargs = {\"kwargs\" : {\"max_depth\" : 30}}\n",
    "\n",
    "                default_voter_class = TreeClassificationVoter\n",
    "                default_voter_kwargs = {}\n",
    "\n",
    "                default_decider_class = SimpleArgmaxAverage\n",
    "\n",
    "\n",
    "            progressive_learner = ProgressiveLearner(default_transformer_class = default_transformer_class,\n",
    "                                         default_transformer_kwargs = default_transformer_kwargs,\n",
    "                                         default_voter_class = default_voter_class,\n",
    "                                         default_voter_kwargs = default_voter_kwargs,\n",
    "                                         default_decider_class = default_decider_class)\n",
    "\n",
    "            progressive_learner.add_task(\n",
    "                X = train_x1,\n",
    "                y = train_y1,\n",
    "                transformer_voter_decider_split = [0.67, 0.33, 0],\n",
    "                decider_kwargs = {\"classes\" : np.unique(train_y1)}\n",
    "            )\n",
    "\n",
    "            progressive_learner.add_transformer(\n",
    "                X = tmp_data,\n",
    "                y = train_y2,\n",
    "                transformer_data_proportion = 1,\n",
    "                backward_task_ids = [0]\n",
    "            )\n",
    "\n",
    "\n",
    "            llf_task1=progressive_learner.predict(test_x, task_id=0)\n",
    "            llf_single_task=progressive_learner.predict(test_x, task_id=0, transformer_ids=[0])\n",
    "\n",
    "            errors[1] = errors[1]+(1 - np.mean(llf_task1 == test_y))\n",
    "            errors[0] = errors[0]+(1 - np.mean(llf_single_task == test_y))\n",
    "\n",
    "    errors = errors/reps\n",
    "    print(\"Errors For Angle {}: {}\".format(angle, errors))\n",
    "    with open('results/angle_'+str(angle)+'_'+model+'.pickle', 'wb') as f:\n",
    "        pickle.dump(errors, f, protocol = 2)"
   ]
  },
  {
   "cell_type": "code",
   "execution_count": 50,
   "metadata": {},
   "outputs": [],
   "source": [
    "# def image_aug(pic, angle, centroid_x=23, centroid_y=23, win=16, scale=1.45):\n",
    "#     im_sz = int(np.floor(pic.shape[0]*scale))\n",
    "#     pic_ = np.uint8(np.zeros((im_sz,im_sz,3),dtype=int))\n",
    "\n",
    "#     pic_[:,:,0] = ndimage.zoom(pic[:,:,0],scale)\n",
    "\n",
    "#     pic_[:,:,1] = ndimage.zoom(pic[:,:,1],scale)\n",
    "#     pic_[:,:,2] = ndimage.zoom(pic[:,:,2],scale)\n",
    "\n",
    "#     image_aug = rotate(pic_, angle, resize=False)\n",
    "#     #print(image_aug.shape)\n",
    "#     image_aug_ = image_aug[centroid_x-win:centroid_x+win,centroid_y-win:centroid_y+win,:]\n",
    "\n",
    "#     return img_as_ubyte(image_aug_)"
   ]
  },
  {
   "cell_type": "code",
   "execution_count": 42,
   "metadata": {},
   "outputs": [],
   "source": [
    "model = \"uf\"\n",
    "granularity = 5\n",
    "reps = 4"
   ]
  },
  {
   "cell_type": "code",
   "execution_count": 43,
   "metadata": {},
   "outputs": [],
   "source": [
    "data_x = np.concatenate([X_train, X_test])\n",
    "data_y = np.concatenate([y_train, y_test])\n",
    "data_y = data_y[:, 0]"
   ]
  },
  {
   "cell_type": "code",
   "execution_count": 44,
   "metadata": {
    "tags": []
   },
   "outputs": [],
   "source": [
    "def perform_angle(angle):\n",
    "    LF_experiment(data_x, data_y, angle, model, granularity, reps=reps, ntrees=16, acorn=1)"
   ]
  },
  {
   "cell_type": "code",
   "execution_count": 52,
   "metadata": {},
   "outputs": [],
   "source": [
    "with open('tmp_data_all.pickle', 'rb') as f:\n",
    "     tmp_data_all = pickle.load(f)"
   ]
  },
  {
   "cell_type": "code",
   "execution_count": 54,
   "metadata": {
    "tags": []
   },
   "outputs": [
    {
     "output_type": "stream",
     "name": "stdout",
     "text": "Errors For Angle 30: [0.7375  0.72875]\nErrors For Angle 0: [0.743 0.719]\nErrors For Angle 120: [0.744   0.72825]\nErrors For Angle 60: [0.75175 0.7375 ]\nErrors For Angle 150: [0.741   0.72325]\nErrors For Angle 90: [0.73325 0.72   ]\n"
    }
   ],
   "source": [
    "angles = np.arange(0, 180,30)\n",
    "with Pool(96) as p:\n",
    "    p.map(perform_angle, angles)"
   ]
  },
  {
   "cell_type": "code",
   "execution_count": null,
   "metadata": {},
   "outputs": [],
   "source": []
  },
  {
   "cell_type": "code",
   "execution_count": 59,
   "metadata": {},
   "outputs": [
    {
     "output_type": "display_data",
     "data": {
      "text/plain": "<Figure size 576x288 with 1 Axes>",
      "image/svg+xml": "<?xml version=\"1.0\" encoding=\"utf-8\" standalone=\"no\"?>\n<!DOCTYPE svg PUBLIC \"-//W3C//DTD SVG 1.1//EN\"\n  \"http://www.w3.org/Graphics/SVG/1.1/DTD/svg11.dtd\">\n<!-- Created with matplotlib (https://matplotlib.org/) -->\n<svg height=\"279.62pt\" version=\"1.1\" viewBox=\"0 0 567.70875 279.62\" width=\"567.70875pt\" xmlns=\"http://www.w3.org/2000/svg\" xmlns:xlink=\"http://www.w3.org/1999/xlink\">\n <metadata>\n  <rdf:RDF xmlns:cc=\"http://creativecommons.org/ns#\" xmlns:dc=\"http://purl.org/dc/elements/1.1/\" xmlns:rdf=\"http://www.w3.org/1999/02/22-rdf-syntax-ns#\">\n   <cc:Work>\n    <dc:type rdf:resource=\"http://purl.org/dc/dcmitype/StillImage\"/>\n    <dc:date>2020-09-30T17:35:58.351897</dc:date>\n    <dc:format>image/svg+xml</dc:format>\n    <dc:creator>\n     <cc:Agent>\n      <dc:title>Matplotlib v3.3.2, https://matplotlib.org/</dc:title>\n     </cc:Agent>\n    </dc:creator>\n   </cc:Work>\n  </rdf:RDF>\n </metadata>\n <defs>\n  <style type=\"text/css\">*{stroke-linecap:butt;stroke-linejoin:round;}</style>\n </defs>\n <g id=\"figure_1\">\n  <g id=\"patch_1\">\n   <path d=\"M 0 279.62 \nL 567.70875 279.62 \nL 567.70875 0 \nL 0 0 \nz\n\" style=\"fill:none;\"/>\n  </g>\n  <g id=\"axes_1\">\n   <g id=\"patch_2\">\n    <path d=\"M 85.95875 218.83625 \nL 541.42125 218.83625 \nL 541.42125 31.43625 \nL 85.95875 31.43625 \nz\n\" style=\"fill:#ffffff;\"/>\n   </g>\n   <g id=\"matplotlib.axis_1\">\n    <g id=\"xtick_1\">\n     <g id=\"line2d_1\">\n      <defs>\n       <path d=\"M 0 0 \nL 0 3.5 \n\" id=\"m4e80de73ae\" style=\"stroke:#000000;stroke-width:0.8;\"/>\n      </defs>\n      <g>\n       <use style=\"stroke:#000000;stroke-width:0.8;\" x=\"104.17725\" xlink:href=\"#m4e80de73ae\" y=\"218.83625\"/>\n      </g>\n     </g>\n     <g id=\"text_1\">\n      <!-- 0 -->\n      <g transform=\"translate(97.81475 241.033125)scale(0.2 -0.2)\">\n       <defs>\n        <path d=\"M 31.78125 66.40625 \nQ 24.171875 66.40625 20.328125 58.90625 \nQ 16.5 51.421875 16.5 36.375 \nQ 16.5 21.390625 20.328125 13.890625 \nQ 24.171875 6.390625 31.78125 6.390625 \nQ 39.453125 6.390625 43.28125 13.890625 \nQ 47.125 21.390625 47.125 36.375 \nQ 47.125 51.421875 43.28125 58.90625 \nQ 39.453125 66.40625 31.78125 66.40625 \nz\nM 31.78125 74.21875 \nQ 44.046875 74.21875 50.515625 64.515625 \nQ 56.984375 54.828125 56.984375 36.375 \nQ 56.984375 17.96875 50.515625 8.265625 \nQ 44.046875 -1.421875 31.78125 -1.421875 \nQ 19.53125 -1.421875 13.0625 8.265625 \nQ 6.59375 17.96875 6.59375 36.375 \nQ 6.59375 54.828125 13.0625 64.515625 \nQ 19.53125 74.21875 31.78125 74.21875 \nz\n\" id=\"DejaVuSans-48\"/>\n       </defs>\n       <use xlink:href=\"#DejaVuSans-48\"/>\n      </g>\n     </g>\n    </g>\n    <g id=\"xtick_2\">\n     <g id=\"line2d_2\">\n      <g>\n       <use style=\"stroke:#000000;stroke-width:0.8;\" x=\"177.05125\" xlink:href=\"#m4e80de73ae\" y=\"218.83625\"/>\n      </g>\n     </g>\n     <g id=\"text_2\">\n      <!-- 30 -->\n      <g transform=\"translate(164.32625 241.033125)scale(0.2 -0.2)\">\n       <defs>\n        <path d=\"M 40.578125 39.3125 \nQ 47.65625 37.796875 51.625 33 \nQ 55.609375 28.21875 55.609375 21.1875 \nQ 55.609375 10.40625 48.1875 4.484375 \nQ 40.765625 -1.421875 27.09375 -1.421875 \nQ 22.515625 -1.421875 17.65625 -0.515625 \nQ 12.796875 0.390625 7.625 2.203125 \nL 7.625 11.71875 \nQ 11.71875 9.328125 16.59375 8.109375 \nQ 21.484375 6.890625 26.8125 6.890625 \nQ 36.078125 6.890625 40.9375 10.546875 \nQ 45.796875 14.203125 45.796875 21.1875 \nQ 45.796875 27.640625 41.28125 31.265625 \nQ 36.765625 34.90625 28.71875 34.90625 \nL 20.21875 34.90625 \nL 20.21875 43.015625 \nL 29.109375 43.015625 \nQ 36.375 43.015625 40.234375 45.921875 \nQ 44.09375 48.828125 44.09375 54.296875 \nQ 44.09375 59.90625 40.109375 62.90625 \nQ 36.140625 65.921875 28.71875 65.921875 \nQ 24.65625 65.921875 20.015625 65.03125 \nQ 15.375 64.15625 9.8125 62.3125 \nL 9.8125 71.09375 \nQ 15.4375 72.65625 20.34375 73.4375 \nQ 25.25 74.21875 29.59375 74.21875 \nQ 40.828125 74.21875 47.359375 69.109375 \nQ 53.90625 64.015625 53.90625 55.328125 \nQ 53.90625 49.265625 50.4375 45.09375 \nQ 46.96875 40.921875 40.578125 39.3125 \nz\n\" id=\"DejaVuSans-51\"/>\n       </defs>\n       <use xlink:href=\"#DejaVuSans-51\"/>\n       <use x=\"63.623047\" xlink:href=\"#DejaVuSans-48\"/>\n      </g>\n     </g>\n    </g>\n    <g id=\"xtick_3\">\n     <g id=\"line2d_3\">\n      <g>\n       <use style=\"stroke:#000000;stroke-width:0.8;\" x=\"249.92525\" xlink:href=\"#m4e80de73ae\" y=\"218.83625\"/>\n      </g>\n     </g>\n     <g id=\"text_3\">\n      <!-- 60 -->\n      <g transform=\"translate(237.20025 241.033125)scale(0.2 -0.2)\">\n       <defs>\n        <path d=\"M 33.015625 40.375 \nQ 26.375 40.375 22.484375 35.828125 \nQ 18.609375 31.296875 18.609375 23.390625 \nQ 18.609375 15.53125 22.484375 10.953125 \nQ 26.375 6.390625 33.015625 6.390625 \nQ 39.65625 6.390625 43.53125 10.953125 \nQ 47.40625 15.53125 47.40625 23.390625 \nQ 47.40625 31.296875 43.53125 35.828125 \nQ 39.65625 40.375 33.015625 40.375 \nz\nM 52.59375 71.296875 \nL 52.59375 62.3125 \nQ 48.875 64.0625 45.09375 64.984375 \nQ 41.3125 65.921875 37.59375 65.921875 \nQ 27.828125 65.921875 22.671875 59.328125 \nQ 17.53125 52.734375 16.796875 39.40625 \nQ 19.671875 43.65625 24.015625 45.921875 \nQ 28.375 48.1875 33.59375 48.1875 \nQ 44.578125 48.1875 50.953125 41.515625 \nQ 57.328125 34.859375 57.328125 23.390625 \nQ 57.328125 12.15625 50.6875 5.359375 \nQ 44.046875 -1.421875 33.015625 -1.421875 \nQ 20.359375 -1.421875 13.671875 8.265625 \nQ 6.984375 17.96875 6.984375 36.375 \nQ 6.984375 53.65625 15.1875 63.9375 \nQ 23.390625 74.21875 37.203125 74.21875 \nQ 40.921875 74.21875 44.703125 73.484375 \nQ 48.484375 72.75 52.59375 71.296875 \nz\n\" id=\"DejaVuSans-54\"/>\n       </defs>\n       <use xlink:href=\"#DejaVuSans-54\"/>\n       <use x=\"63.623047\" xlink:href=\"#DejaVuSans-48\"/>\n      </g>\n     </g>\n    </g>\n    <g id=\"xtick_4\">\n     <g id=\"line2d_4\">\n      <g>\n       <use style=\"stroke:#000000;stroke-width:0.8;\" x=\"322.79925\" xlink:href=\"#m4e80de73ae\" y=\"218.83625\"/>\n      </g>\n     </g>\n     <g id=\"text_4\">\n      <!-- 90 -->\n      <g transform=\"translate(310.07425 241.033125)scale(0.2 -0.2)\">\n       <defs>\n        <path d=\"M 10.984375 1.515625 \nL 10.984375 10.5 \nQ 14.703125 8.734375 18.5 7.8125 \nQ 22.3125 6.890625 25.984375 6.890625 \nQ 35.75 6.890625 40.890625 13.453125 \nQ 46.046875 20.015625 46.78125 33.40625 \nQ 43.953125 29.203125 39.59375 26.953125 \nQ 35.25 24.703125 29.984375 24.703125 \nQ 19.046875 24.703125 12.671875 31.3125 \nQ 6.296875 37.9375 6.296875 49.421875 \nQ 6.296875 60.640625 12.9375 67.421875 \nQ 19.578125 74.21875 30.609375 74.21875 \nQ 43.265625 74.21875 49.921875 64.515625 \nQ 56.59375 54.828125 56.59375 36.375 \nQ 56.59375 19.140625 48.40625 8.859375 \nQ 40.234375 -1.421875 26.421875 -1.421875 \nQ 22.703125 -1.421875 18.890625 -0.6875 \nQ 15.09375 0.046875 10.984375 1.515625 \nz\nM 30.609375 32.421875 \nQ 37.25 32.421875 41.125 36.953125 \nQ 45.015625 41.5 45.015625 49.421875 \nQ 45.015625 57.28125 41.125 61.84375 \nQ 37.25 66.40625 30.609375 66.40625 \nQ 23.96875 66.40625 20.09375 61.84375 \nQ 16.21875 57.28125 16.21875 49.421875 \nQ 16.21875 41.5 20.09375 36.953125 \nQ 23.96875 32.421875 30.609375 32.421875 \nz\n\" id=\"DejaVuSans-57\"/>\n       </defs>\n       <use xlink:href=\"#DejaVuSans-57\"/>\n       <use x=\"63.623047\" xlink:href=\"#DejaVuSans-48\"/>\n      </g>\n     </g>\n    </g>\n    <g id=\"xtick_5\">\n     <g id=\"line2d_5\">\n      <g>\n       <use style=\"stroke:#000000;stroke-width:0.8;\" x=\"395.67325\" xlink:href=\"#m4e80de73ae\" y=\"218.83625\"/>\n      </g>\n     </g>\n     <g id=\"text_5\">\n      <!-- 120 -->\n      <g transform=\"translate(376.58575 241.033125)scale(0.2 -0.2)\">\n       <defs>\n        <path d=\"M 12.40625 8.296875 \nL 28.515625 8.296875 \nL 28.515625 63.921875 \nL 10.984375 60.40625 \nL 10.984375 69.390625 \nL 28.421875 72.90625 \nL 38.28125 72.90625 \nL 38.28125 8.296875 \nL 54.390625 8.296875 \nL 54.390625 0 \nL 12.40625 0 \nz\n\" id=\"DejaVuSans-49\"/>\n        <path d=\"M 19.1875 8.296875 \nL 53.609375 8.296875 \nL 53.609375 0 \nL 7.328125 0 \nL 7.328125 8.296875 \nQ 12.9375 14.109375 22.625 23.890625 \nQ 32.328125 33.6875 34.8125 36.53125 \nQ 39.546875 41.84375 41.421875 45.53125 \nQ 43.3125 49.21875 43.3125 52.78125 \nQ 43.3125 58.59375 39.234375 62.25 \nQ 35.15625 65.921875 28.609375 65.921875 \nQ 23.96875 65.921875 18.8125 64.3125 \nQ 13.671875 62.703125 7.8125 59.421875 \nL 7.8125 69.390625 \nQ 13.765625 71.78125 18.9375 73 \nQ 24.125 74.21875 28.421875 74.21875 \nQ 39.75 74.21875 46.484375 68.546875 \nQ 53.21875 62.890625 53.21875 53.421875 \nQ 53.21875 48.921875 51.53125 44.890625 \nQ 49.859375 40.875 45.40625 35.40625 \nQ 44.1875 33.984375 37.640625 27.21875 \nQ 31.109375 20.453125 19.1875 8.296875 \nz\n\" id=\"DejaVuSans-50\"/>\n       </defs>\n       <use xlink:href=\"#DejaVuSans-49\"/>\n       <use x=\"63.623047\" xlink:href=\"#DejaVuSans-50\"/>\n       <use x=\"127.246094\" xlink:href=\"#DejaVuSans-48\"/>\n      </g>\n     </g>\n    </g>\n    <g id=\"xtick_6\">\n     <g id=\"line2d_6\">\n      <g>\n       <use style=\"stroke:#000000;stroke-width:0.8;\" x=\"468.54725\" xlink:href=\"#m4e80de73ae\" y=\"218.83625\"/>\n      </g>\n     </g>\n     <g id=\"text_6\">\n      <!-- 150 -->\n      <g transform=\"translate(449.45975 241.033125)scale(0.2 -0.2)\">\n       <defs>\n        <path d=\"M 10.796875 72.90625 \nL 49.515625 72.90625 \nL 49.515625 64.59375 \nL 19.828125 64.59375 \nL 19.828125 46.734375 \nQ 21.96875 47.46875 24.109375 47.828125 \nQ 26.265625 48.1875 28.421875 48.1875 \nQ 40.625 48.1875 47.75 41.5 \nQ 54.890625 34.8125 54.890625 23.390625 \nQ 54.890625 11.625 47.5625 5.09375 \nQ 40.234375 -1.421875 26.90625 -1.421875 \nQ 22.3125 -1.421875 17.546875 -0.640625 \nQ 12.796875 0.140625 7.71875 1.703125 \nL 7.71875 11.625 \nQ 12.109375 9.234375 16.796875 8.0625 \nQ 21.484375 6.890625 26.703125 6.890625 \nQ 35.15625 6.890625 40.078125 11.328125 \nQ 45.015625 15.765625 45.015625 23.390625 \nQ 45.015625 31 40.078125 35.4375 \nQ 35.15625 39.890625 26.703125 39.890625 \nQ 22.75 39.890625 18.8125 39.015625 \nQ 14.890625 38.140625 10.796875 36.28125 \nz\n\" id=\"DejaVuSans-53\"/>\n       </defs>\n       <use xlink:href=\"#DejaVuSans-49\"/>\n       <use x=\"63.623047\" xlink:href=\"#DejaVuSans-53\"/>\n       <use x=\"127.246094\" xlink:href=\"#DejaVuSans-48\"/>\n      </g>\n     </g>\n    </g>\n    <g id=\"xtick_7\">\n     <g id=\"line2d_7\">\n      <g>\n       <use style=\"stroke:#000000;stroke-width:0.8;\" x=\"541.42125\" xlink:href=\"#m4e80de73ae\" y=\"218.83625\"/>\n      </g>\n     </g>\n     <g id=\"text_7\">\n      <!-- 180 -->\n      <g transform=\"translate(522.33375 241.033125)scale(0.2 -0.2)\">\n       <defs>\n        <path d=\"M 31.78125 34.625 \nQ 24.75 34.625 20.71875 30.859375 \nQ 16.703125 27.09375 16.703125 20.515625 \nQ 16.703125 13.921875 20.71875 10.15625 \nQ 24.75 6.390625 31.78125 6.390625 \nQ 38.8125 6.390625 42.859375 10.171875 \nQ 46.921875 13.96875 46.921875 20.515625 \nQ 46.921875 27.09375 42.890625 30.859375 \nQ 38.875 34.625 31.78125 34.625 \nz\nM 21.921875 38.8125 \nQ 15.578125 40.375 12.03125 44.71875 \nQ 8.5 49.078125 8.5 55.328125 \nQ 8.5 64.0625 14.71875 69.140625 \nQ 20.953125 74.21875 31.78125 74.21875 \nQ 42.671875 74.21875 48.875 69.140625 \nQ 55.078125 64.0625 55.078125 55.328125 \nQ 55.078125 49.078125 51.53125 44.71875 \nQ 48 40.375 41.703125 38.8125 \nQ 48.828125 37.15625 52.796875 32.3125 \nQ 56.78125 27.484375 56.78125 20.515625 \nQ 56.78125 9.90625 50.3125 4.234375 \nQ 43.84375 -1.421875 31.78125 -1.421875 \nQ 19.734375 -1.421875 13.25 4.234375 \nQ 6.78125 9.90625 6.78125 20.515625 \nQ 6.78125 27.484375 10.78125 32.3125 \nQ 14.796875 37.15625 21.921875 38.8125 \nz\nM 18.3125 54.390625 \nQ 18.3125 48.734375 21.84375 45.5625 \nQ 25.390625 42.390625 31.78125 42.390625 \nQ 38.140625 42.390625 41.71875 45.5625 \nQ 45.3125 48.734375 45.3125 54.390625 \nQ 45.3125 60.0625 41.71875 63.234375 \nQ 38.140625 66.40625 31.78125 66.40625 \nQ 25.390625 66.40625 21.84375 63.234375 \nQ 18.3125 60.0625 18.3125 54.390625 \nz\n\" id=\"DejaVuSans-56\"/>\n       </defs>\n       <use xlink:href=\"#DejaVuSans-49\"/>\n       <use x=\"63.623047\" xlink:href=\"#DejaVuSans-56\"/>\n       <use x=\"127.246094\" xlink:href=\"#DejaVuSans-48\"/>\n      </g>\n     </g>\n    </g>\n    <g id=\"text_8\">\n     <!-- Angle of Rotation (Degrees) -->\n     <g transform=\"translate(147.060625 267.42875)scale(0.24 -0.24)\">\n      <defs>\n       <path d=\"M 34.1875 63.1875 \nL 20.796875 26.90625 \nL 47.609375 26.90625 \nz\nM 28.609375 72.90625 \nL 39.796875 72.90625 \nL 67.578125 0 \nL 57.328125 0 \nL 50.6875 18.703125 \nL 17.828125 18.703125 \nL 11.1875 0 \nL 0.78125 0 \nz\n\" id=\"DejaVuSans-65\"/>\n       <path d=\"M 54.890625 33.015625 \nL 54.890625 0 \nL 45.90625 0 \nL 45.90625 32.71875 \nQ 45.90625 40.484375 42.875 44.328125 \nQ 39.84375 48.1875 33.796875 48.1875 \nQ 26.515625 48.1875 22.3125 43.546875 \nQ 18.109375 38.921875 18.109375 30.90625 \nL 18.109375 0 \nL 9.078125 0 \nL 9.078125 54.6875 \nL 18.109375 54.6875 \nL 18.109375 46.1875 \nQ 21.34375 51.125 25.703125 53.5625 \nQ 30.078125 56 35.796875 56 \nQ 45.21875 56 50.046875 50.171875 \nQ 54.890625 44.34375 54.890625 33.015625 \nz\n\" id=\"DejaVuSans-110\"/>\n       <path d=\"M 45.40625 27.984375 \nQ 45.40625 37.75 41.375 43.109375 \nQ 37.359375 48.484375 30.078125 48.484375 \nQ 22.859375 48.484375 18.828125 43.109375 \nQ 14.796875 37.75 14.796875 27.984375 \nQ 14.796875 18.265625 18.828125 12.890625 \nQ 22.859375 7.515625 30.078125 7.515625 \nQ 37.359375 7.515625 41.375 12.890625 \nQ 45.40625 18.265625 45.40625 27.984375 \nz\nM 54.390625 6.78125 \nQ 54.390625 -7.171875 48.1875 -13.984375 \nQ 42 -20.796875 29.203125 -20.796875 \nQ 24.46875 -20.796875 20.265625 -20.09375 \nQ 16.0625 -19.390625 12.109375 -17.921875 \nL 12.109375 -9.1875 \nQ 16.0625 -11.328125 19.921875 -12.34375 \nQ 23.78125 -13.375 27.78125 -13.375 \nQ 36.625 -13.375 41.015625 -8.765625 \nQ 45.40625 -4.15625 45.40625 5.171875 \nL 45.40625 9.625 \nQ 42.625 4.78125 38.28125 2.390625 \nQ 33.9375 0 27.875 0 \nQ 17.828125 0 11.671875 7.65625 \nQ 5.515625 15.328125 5.515625 27.984375 \nQ 5.515625 40.671875 11.671875 48.328125 \nQ 17.828125 56 27.875 56 \nQ 33.9375 56 38.28125 53.609375 \nQ 42.625 51.21875 45.40625 46.390625 \nL 45.40625 54.6875 \nL 54.390625 54.6875 \nz\n\" id=\"DejaVuSans-103\"/>\n       <path d=\"M 9.421875 75.984375 \nL 18.40625 75.984375 \nL 18.40625 0 \nL 9.421875 0 \nz\n\" id=\"DejaVuSans-108\"/>\n       <path d=\"M 56.203125 29.59375 \nL 56.203125 25.203125 \nL 14.890625 25.203125 \nQ 15.484375 15.921875 20.484375 11.0625 \nQ 25.484375 6.203125 34.421875 6.203125 \nQ 39.59375 6.203125 44.453125 7.46875 \nQ 49.3125 8.734375 54.109375 11.28125 \nL 54.109375 2.78125 \nQ 49.265625 0.734375 44.1875 -0.34375 \nQ 39.109375 -1.421875 33.890625 -1.421875 \nQ 20.796875 -1.421875 13.15625 6.1875 \nQ 5.515625 13.8125 5.515625 26.8125 \nQ 5.515625 40.234375 12.765625 48.109375 \nQ 20.015625 56 32.328125 56 \nQ 43.359375 56 49.78125 48.890625 \nQ 56.203125 41.796875 56.203125 29.59375 \nz\nM 47.21875 32.234375 \nQ 47.125 39.59375 43.09375 43.984375 \nQ 39.0625 48.390625 32.421875 48.390625 \nQ 24.90625 48.390625 20.390625 44.140625 \nQ 15.875 39.890625 15.1875 32.171875 \nz\n\" id=\"DejaVuSans-101\"/>\n       <path id=\"DejaVuSans-32\"/>\n       <path d=\"M 30.609375 48.390625 \nQ 23.390625 48.390625 19.1875 42.75 \nQ 14.984375 37.109375 14.984375 27.296875 \nQ 14.984375 17.484375 19.15625 11.84375 \nQ 23.34375 6.203125 30.609375 6.203125 \nQ 37.796875 6.203125 41.984375 11.859375 \nQ 46.1875 17.53125 46.1875 27.296875 \nQ 46.1875 37.015625 41.984375 42.703125 \nQ 37.796875 48.390625 30.609375 48.390625 \nz\nM 30.609375 56 \nQ 42.328125 56 49.015625 48.375 \nQ 55.71875 40.765625 55.71875 27.296875 \nQ 55.71875 13.875 49.015625 6.21875 \nQ 42.328125 -1.421875 30.609375 -1.421875 \nQ 18.84375 -1.421875 12.171875 6.21875 \nQ 5.515625 13.875 5.515625 27.296875 \nQ 5.515625 40.765625 12.171875 48.375 \nQ 18.84375 56 30.609375 56 \nz\n\" id=\"DejaVuSans-111\"/>\n       <path d=\"M 37.109375 75.984375 \nL 37.109375 68.5 \nL 28.515625 68.5 \nQ 23.6875 68.5 21.796875 66.546875 \nQ 19.921875 64.59375 19.921875 59.515625 \nL 19.921875 54.6875 \nL 34.71875 54.6875 \nL 34.71875 47.703125 \nL 19.921875 47.703125 \nL 19.921875 0 \nL 10.890625 0 \nL 10.890625 47.703125 \nL 2.296875 47.703125 \nL 2.296875 54.6875 \nL 10.890625 54.6875 \nL 10.890625 58.5 \nQ 10.890625 67.625 15.140625 71.796875 \nQ 19.390625 75.984375 28.609375 75.984375 \nz\n\" id=\"DejaVuSans-102\"/>\n       <path d=\"M 44.390625 34.1875 \nQ 47.5625 33.109375 50.5625 29.59375 \nQ 53.5625 26.078125 56.59375 19.921875 \nL 66.609375 0 \nL 56 0 \nL 46.6875 18.703125 \nQ 43.0625 26.03125 39.671875 28.421875 \nQ 36.28125 30.8125 30.421875 30.8125 \nL 19.671875 30.8125 \nL 19.671875 0 \nL 9.8125 0 \nL 9.8125 72.90625 \nL 32.078125 72.90625 \nQ 44.578125 72.90625 50.734375 67.671875 \nQ 56.890625 62.453125 56.890625 51.90625 \nQ 56.890625 45.015625 53.6875 40.46875 \nQ 50.484375 35.9375 44.390625 34.1875 \nz\nM 19.671875 64.796875 \nL 19.671875 38.921875 \nL 32.078125 38.921875 \nQ 39.203125 38.921875 42.84375 42.21875 \nQ 46.484375 45.515625 46.484375 51.90625 \nQ 46.484375 58.296875 42.84375 61.546875 \nQ 39.203125 64.796875 32.078125 64.796875 \nz\n\" id=\"DejaVuSans-82\"/>\n       <path d=\"M 18.3125 70.21875 \nL 18.3125 54.6875 \nL 36.8125 54.6875 \nL 36.8125 47.703125 \nL 18.3125 47.703125 \nL 18.3125 18.015625 \nQ 18.3125 11.328125 20.140625 9.421875 \nQ 21.96875 7.515625 27.59375 7.515625 \nL 36.8125 7.515625 \nL 36.8125 0 \nL 27.59375 0 \nQ 17.1875 0 13.234375 3.875 \nQ 9.28125 7.765625 9.28125 18.015625 \nL 9.28125 47.703125 \nL 2.6875 47.703125 \nL 2.6875 54.6875 \nL 9.28125 54.6875 \nL 9.28125 70.21875 \nz\n\" id=\"DejaVuSans-116\"/>\n       <path d=\"M 34.28125 27.484375 \nQ 23.390625 27.484375 19.1875 25 \nQ 14.984375 22.515625 14.984375 16.5 \nQ 14.984375 11.71875 18.140625 8.90625 \nQ 21.296875 6.109375 26.703125 6.109375 \nQ 34.1875 6.109375 38.703125 11.40625 \nQ 43.21875 16.703125 43.21875 25.484375 \nL 43.21875 27.484375 \nz\nM 52.203125 31.203125 \nL 52.203125 0 \nL 43.21875 0 \nL 43.21875 8.296875 \nQ 40.140625 3.328125 35.546875 0.953125 \nQ 30.953125 -1.421875 24.3125 -1.421875 \nQ 15.921875 -1.421875 10.953125 3.296875 \nQ 6 8.015625 6 15.921875 \nQ 6 25.140625 12.171875 29.828125 \nQ 18.359375 34.515625 30.609375 34.515625 \nL 43.21875 34.515625 \nL 43.21875 35.40625 \nQ 43.21875 41.609375 39.140625 45 \nQ 35.0625 48.390625 27.6875 48.390625 \nQ 23 48.390625 18.546875 47.265625 \nQ 14.109375 46.140625 10.015625 43.890625 \nL 10.015625 52.203125 \nQ 14.9375 54.109375 19.578125 55.046875 \nQ 24.21875 56 28.609375 56 \nQ 40.484375 56 46.34375 49.84375 \nQ 52.203125 43.703125 52.203125 31.203125 \nz\n\" id=\"DejaVuSans-97\"/>\n       <path d=\"M 9.421875 54.6875 \nL 18.40625 54.6875 \nL 18.40625 0 \nL 9.421875 0 \nz\nM 9.421875 75.984375 \nL 18.40625 75.984375 \nL 18.40625 64.59375 \nL 9.421875 64.59375 \nz\n\" id=\"DejaVuSans-105\"/>\n       <path d=\"M 31 75.875 \nQ 24.46875 64.65625 21.28125 53.65625 \nQ 18.109375 42.671875 18.109375 31.390625 \nQ 18.109375 20.125 21.3125 9.0625 \nQ 24.515625 -2 31 -13.1875 \nL 23.1875 -13.1875 \nQ 15.875 -1.703125 12.234375 9.375 \nQ 8.59375 20.453125 8.59375 31.390625 \nQ 8.59375 42.28125 12.203125 53.3125 \nQ 15.828125 64.359375 23.1875 75.875 \nz\n\" id=\"DejaVuSans-40\"/>\n       <path d=\"M 19.671875 64.796875 \nL 19.671875 8.109375 \nL 31.59375 8.109375 \nQ 46.6875 8.109375 53.6875 14.9375 \nQ 60.6875 21.78125 60.6875 36.53125 \nQ 60.6875 51.171875 53.6875 57.984375 \nQ 46.6875 64.796875 31.59375 64.796875 \nz\nM 9.8125 72.90625 \nL 30.078125 72.90625 \nQ 51.265625 72.90625 61.171875 64.09375 \nQ 71.09375 55.28125 71.09375 36.53125 \nQ 71.09375 17.671875 61.125 8.828125 \nQ 51.171875 0 30.078125 0 \nL 9.8125 0 \nz\n\" id=\"DejaVuSans-68\"/>\n       <path d=\"M 41.109375 46.296875 \nQ 39.59375 47.171875 37.8125 47.578125 \nQ 36.03125 48 33.890625 48 \nQ 26.265625 48 22.1875 43.046875 \nQ 18.109375 38.09375 18.109375 28.8125 \nL 18.109375 0 \nL 9.078125 0 \nL 9.078125 54.6875 \nL 18.109375 54.6875 \nL 18.109375 46.1875 \nQ 20.953125 51.171875 25.484375 53.578125 \nQ 30.03125 56 36.53125 56 \nQ 37.453125 56 38.578125 55.875 \nQ 39.703125 55.765625 41.0625 55.515625 \nz\n\" id=\"DejaVuSans-114\"/>\n       <path d=\"M 44.28125 53.078125 \nL 44.28125 44.578125 \nQ 40.484375 46.53125 36.375 47.5 \nQ 32.28125 48.484375 27.875 48.484375 \nQ 21.1875 48.484375 17.84375 46.4375 \nQ 14.5 44.390625 14.5 40.28125 \nQ 14.5 37.15625 16.890625 35.375 \nQ 19.28125 33.59375 26.515625 31.984375 \nL 29.59375 31.296875 \nQ 39.15625 29.25 43.1875 25.515625 \nQ 47.21875 21.78125 47.21875 15.09375 \nQ 47.21875 7.46875 41.1875 3.015625 \nQ 35.15625 -1.421875 24.609375 -1.421875 \nQ 20.21875 -1.421875 15.453125 -0.5625 \nQ 10.6875 0.296875 5.421875 2 \nL 5.421875 11.28125 \nQ 10.40625 8.6875 15.234375 7.390625 \nQ 20.0625 6.109375 24.8125 6.109375 \nQ 31.15625 6.109375 34.5625 8.28125 \nQ 37.984375 10.453125 37.984375 14.40625 \nQ 37.984375 18.0625 35.515625 20.015625 \nQ 33.0625 21.96875 24.703125 23.78125 \nL 21.578125 24.515625 \nQ 13.234375 26.265625 9.515625 29.90625 \nQ 5.8125 33.546875 5.8125 39.890625 \nQ 5.8125 47.609375 11.28125 51.796875 \nQ 16.75 56 26.8125 56 \nQ 31.78125 56 36.171875 55.265625 \nQ 40.578125 54.546875 44.28125 53.078125 \nz\n\" id=\"DejaVuSans-115\"/>\n       <path d=\"M 8.015625 75.875 \nL 15.828125 75.875 \nQ 23.140625 64.359375 26.78125 53.3125 \nQ 30.421875 42.28125 30.421875 31.390625 \nQ 30.421875 20.453125 26.78125 9.375 \nQ 23.140625 -1.703125 15.828125 -13.1875 \nL 8.015625 -13.1875 \nQ 14.5 -2 17.703125 9.0625 \nQ 20.90625 20.125 20.90625 31.390625 \nQ 20.90625 42.671875 17.703125 53.65625 \nQ 14.5 64.65625 8.015625 75.875 \nz\n\" id=\"DejaVuSans-41\"/>\n      </defs>\n      <use xlink:href=\"#DejaVuSans-65\"/>\n      <use x=\"68.408203\" xlink:href=\"#DejaVuSans-110\"/>\n      <use x=\"131.787109\" xlink:href=\"#DejaVuSans-103\"/>\n      <use x=\"195.263672\" xlink:href=\"#DejaVuSans-108\"/>\n      <use x=\"223.046875\" xlink:href=\"#DejaVuSans-101\"/>\n      <use x=\"284.570312\" xlink:href=\"#DejaVuSans-32\"/>\n      <use x=\"316.357422\" xlink:href=\"#DejaVuSans-111\"/>\n      <use x=\"377.539062\" xlink:href=\"#DejaVuSans-102\"/>\n      <use x=\"412.744141\" xlink:href=\"#DejaVuSans-32\"/>\n      <use x=\"444.53125\" xlink:href=\"#DejaVuSans-82\"/>\n      <use x=\"509.513672\" xlink:href=\"#DejaVuSans-111\"/>\n      <use x=\"570.695312\" xlink:href=\"#DejaVuSans-116\"/>\n      <use x=\"609.904297\" xlink:href=\"#DejaVuSans-97\"/>\n      <use x=\"671.183594\" xlink:href=\"#DejaVuSans-116\"/>\n      <use x=\"710.392578\" xlink:href=\"#DejaVuSans-105\"/>\n      <use x=\"738.175781\" xlink:href=\"#DejaVuSans-111\"/>\n      <use x=\"799.357422\" xlink:href=\"#DejaVuSans-110\"/>\n      <use x=\"862.736328\" xlink:href=\"#DejaVuSans-32\"/>\n      <use x=\"894.523438\" xlink:href=\"#DejaVuSans-40\"/>\n      <use x=\"933.537109\" xlink:href=\"#DejaVuSans-68\"/>\n      <use x=\"1010.539062\" xlink:href=\"#DejaVuSans-101\"/>\n      <use x=\"1072.0625\" xlink:href=\"#DejaVuSans-103\"/>\n      <use x=\"1135.539062\" xlink:href=\"#DejaVuSans-114\"/>\n      <use x=\"1174.402344\" xlink:href=\"#DejaVuSans-101\"/>\n      <use x=\"1235.925781\" xlink:href=\"#DejaVuSans-101\"/>\n      <use x=\"1297.449219\" xlink:href=\"#DejaVuSans-115\"/>\n      <use x=\"1349.548828\" xlink:href=\"#DejaVuSans-41\"/>\n     </g>\n    </g>\n   </g>\n   <g id=\"matplotlib.axis_2\">\n    <g id=\"ytick_1\">\n     <g id=\"line2d_8\">\n      <defs>\n       <path d=\"M 0 0 \nL -3.5 0 \n\" id=\"mbc202b0d37\" style=\"stroke:#000000;stroke-width:0.8;\"/>\n      </defs>\n      <g>\n       <use style=\"stroke:#000000;stroke-width:0.8;\" x=\"85.95875\" xlink:href=\"#mbc202b0d37\" y=\"185.371964\"/>\n      </g>\n     </g>\n     <g id=\"text_9\">\n      <!-- 0.90 -->\n      <g transform=\"translate(34.4275 192.970402)scale(0.2 -0.2)\">\n       <defs>\n        <path d=\"M 10.6875 12.40625 \nL 21 12.40625 \nL 21 0 \nL 10.6875 0 \nz\n\" id=\"DejaVuSans-46\"/>\n       </defs>\n       <use xlink:href=\"#DejaVuSans-48\"/>\n       <use x=\"63.623047\" xlink:href=\"#DejaVuSans-46\"/>\n       <use x=\"95.410156\" xlink:href=\"#DejaVuSans-57\"/>\n       <use x=\"159.033203\" xlink:href=\"#DejaVuSans-48\"/>\n      </g>\n     </g>\n    </g>\n    <g id=\"ytick_2\">\n     <g id=\"line2d_9\">\n      <g>\n       <use style=\"stroke:#000000;stroke-width:0.8;\" x=\"85.95875\" xlink:href=\"#mbc202b0d37\" y=\"151.907679\"/>\n      </g>\n     </g>\n     <g id=\"text_10\">\n      <!-- 0.95 -->\n      <g transform=\"translate(34.4275 159.506116)scale(0.2 -0.2)\">\n       <use xlink:href=\"#DejaVuSans-48\"/>\n       <use x=\"63.623047\" xlink:href=\"#DejaVuSans-46\"/>\n       <use x=\"95.410156\" xlink:href=\"#DejaVuSans-57\"/>\n       <use x=\"159.033203\" xlink:href=\"#DejaVuSans-53\"/>\n      </g>\n     </g>\n    </g>\n    <g id=\"ytick_3\">\n     <g id=\"line2d_10\">\n      <g>\n       <use style=\"stroke:#000000;stroke-width:0.8;\" x=\"85.95875\" xlink:href=\"#mbc202b0d37\" y=\"118.443393\"/>\n      </g>\n     </g>\n     <g id=\"text_11\">\n      <!-- 1.00 -->\n      <g transform=\"translate(34.4275 126.04183)scale(0.2 -0.2)\">\n       <use xlink:href=\"#DejaVuSans-49\"/>\n       <use x=\"63.623047\" xlink:href=\"#DejaVuSans-46\"/>\n       <use x=\"95.410156\" xlink:href=\"#DejaVuSans-48\"/>\n       <use x=\"159.033203\" xlink:href=\"#DejaVuSans-48\"/>\n      </g>\n     </g>\n    </g>\n    <g id=\"ytick_4\">\n     <g id=\"line2d_11\">\n      <g>\n       <use style=\"stroke:#000000;stroke-width:0.8;\" x=\"85.95875\" xlink:href=\"#mbc202b0d37\" y=\"84.979107\"/>\n      </g>\n     </g>\n     <g id=\"text_12\">\n      <!-- 1.05 -->\n      <g transform=\"translate(34.4275 92.577545)scale(0.2 -0.2)\">\n       <use xlink:href=\"#DejaVuSans-49\"/>\n       <use x=\"63.623047\" xlink:href=\"#DejaVuSans-46\"/>\n       <use x=\"95.410156\" xlink:href=\"#DejaVuSans-48\"/>\n       <use x=\"159.033203\" xlink:href=\"#DejaVuSans-53\"/>\n      </g>\n     </g>\n    </g>\n    <g id=\"ytick_5\">\n     <g id=\"line2d_12\">\n      <g>\n       <use style=\"stroke:#000000;stroke-width:0.8;\" x=\"85.95875\" xlink:href=\"#mbc202b0d37\" y=\"44.821964\"/>\n      </g>\n     </g>\n     <g id=\"text_13\">\n      <!-- 1.11 -->\n      <g transform=\"translate(34.4275 52.420402)scale(0.2 -0.2)\">\n       <use xlink:href=\"#DejaVuSans-49\"/>\n       <use x=\"63.623047\" xlink:href=\"#DejaVuSans-46\"/>\n       <use x=\"95.410156\" xlink:href=\"#DejaVuSans-49\"/>\n       <use x=\"159.033203\" xlink:href=\"#DejaVuSans-49\"/>\n      </g>\n     </g>\n    </g>\n    <g id=\"text_14\">\n     <!-- BTE -->\n     <g transform=\"translate(25.43625 148.28125)rotate(-90)scale(0.24 -0.24)\">\n      <defs>\n       <path d=\"M 19.671875 34.8125 \nL 19.671875 8.109375 \nL 35.5 8.109375 \nQ 43.453125 8.109375 47.28125 11.40625 \nQ 51.125 14.703125 51.125 21.484375 \nQ 51.125 28.328125 47.28125 31.5625 \nQ 43.453125 34.8125 35.5 34.8125 \nz\nM 19.671875 64.796875 \nL 19.671875 42.828125 \nL 34.28125 42.828125 \nQ 41.5 42.828125 45.03125 45.53125 \nQ 48.578125 48.25 48.578125 53.8125 \nQ 48.578125 59.328125 45.03125 62.0625 \nQ 41.5 64.796875 34.28125 64.796875 \nz\nM 9.8125 72.90625 \nL 35.015625 72.90625 \nQ 46.296875 72.90625 52.390625 68.21875 \nQ 58.5 63.53125 58.5 54.890625 \nQ 58.5 48.1875 55.375 44.234375 \nQ 52.25 40.28125 46.1875 39.3125 \nQ 53.46875 37.75 57.5 32.78125 \nQ 61.53125 27.828125 61.53125 20.40625 \nQ 61.53125 10.640625 54.890625 5.3125 \nQ 48.25 0 35.984375 0 \nL 9.8125 0 \nz\n\" id=\"DejaVuSans-66\"/>\n       <path d=\"M -0.296875 72.90625 \nL 61.375 72.90625 \nL 61.375 64.59375 \nL 35.5 64.59375 \nL 35.5 0 \nL 25.59375 0 \nL 25.59375 64.59375 \nL -0.296875 64.59375 \nz\n\" id=\"DejaVuSans-84\"/>\n       <path d=\"M 9.8125 72.90625 \nL 55.90625 72.90625 \nL 55.90625 64.59375 \nL 19.671875 64.59375 \nL 19.671875 43.015625 \nL 54.390625 43.015625 \nL 54.390625 34.71875 \nL 19.671875 34.71875 \nL 19.671875 8.296875 \nL 56.78125 8.296875 \nL 56.78125 0 \nL 9.8125 0 \nz\n\" id=\"DejaVuSans-69\"/>\n      </defs>\n      <use xlink:href=\"#DejaVuSans-66\"/>\n      <use x=\"68.603516\" xlink:href=\"#DejaVuSans-84\"/>\n      <use x=\"129.6875\" xlink:href=\"#DejaVuSans-69\"/>\n     </g>\n    </g>\n   </g>\n   <g id=\"line2d_13\">\n    <path clip-path=\"url(#p5e77a5a63f)\" d=\"M 104.17725 96.102841 \nL 177.05125 110.407372 \nL 249.92525 105.511432 \nL 322.79925 106.126677 \nL 395.67325 103.968625 \nL 468.54725 102.017784 \n\" style=\"fill:none;stroke:#00008b;stroke-linecap:square;stroke-width:3;\"/>\n   </g>\n   <g id=\"patch_3\">\n    <path d=\"M 85.95875 218.83625 \nL 85.95875 31.43625 \n\" style=\"fill:none;stroke:#000000;stroke-linecap:square;stroke-linejoin:miter;stroke-width:0.8;\"/>\n   </g>\n   <g id=\"patch_4\">\n    <path d=\"M 85.95875 218.83625 \nL 541.42125 218.83625 \n\" style=\"fill:none;stroke:#000000;stroke-linecap:square;stroke-linejoin:miter;stroke-width:0.8;\"/>\n   </g>\n   <g id=\"text_15\">\n    <!-- Rotation Experiment (L2F) -->\n    <g transform=\"translate(155.955625 25.43625)scale(0.24 -0.24)\">\n     <defs>\n      <path d=\"M 54.890625 54.6875 \nL 35.109375 28.078125 \nL 55.90625 0 \nL 45.3125 0 \nL 29.390625 21.484375 \nL 13.484375 0 \nL 2.875 0 \nL 24.125 28.609375 \nL 4.6875 54.6875 \nL 15.28125 54.6875 \nL 29.78125 35.203125 \nL 44.28125 54.6875 \nz\n\" id=\"DejaVuSans-120\"/>\n      <path d=\"M 18.109375 8.203125 \nL 18.109375 -20.796875 \nL 9.078125 -20.796875 \nL 9.078125 54.6875 \nL 18.109375 54.6875 \nL 18.109375 46.390625 \nQ 20.953125 51.265625 25.265625 53.625 \nQ 29.59375 56 35.59375 56 \nQ 45.5625 56 51.78125 48.09375 \nQ 58.015625 40.1875 58.015625 27.296875 \nQ 58.015625 14.40625 51.78125 6.484375 \nQ 45.5625 -1.421875 35.59375 -1.421875 \nQ 29.59375 -1.421875 25.265625 0.953125 \nQ 20.953125 3.328125 18.109375 8.203125 \nz\nM 48.6875 27.296875 \nQ 48.6875 37.203125 44.609375 42.84375 \nQ 40.53125 48.484375 33.40625 48.484375 \nQ 26.265625 48.484375 22.1875 42.84375 \nQ 18.109375 37.203125 18.109375 27.296875 \nQ 18.109375 17.390625 22.1875 11.75 \nQ 26.265625 6.109375 33.40625 6.109375 \nQ 40.53125 6.109375 44.609375 11.75 \nQ 48.6875 17.390625 48.6875 27.296875 \nz\n\" id=\"DejaVuSans-112\"/>\n      <path d=\"M 52 44.1875 \nQ 55.375 50.25 60.0625 53.125 \nQ 64.75 56 71.09375 56 \nQ 79.640625 56 84.28125 50.015625 \nQ 88.921875 44.046875 88.921875 33.015625 \nL 88.921875 0 \nL 79.890625 0 \nL 79.890625 32.71875 \nQ 79.890625 40.578125 77.09375 44.375 \nQ 74.3125 48.1875 68.609375 48.1875 \nQ 61.625 48.1875 57.5625 43.546875 \nQ 53.515625 38.921875 53.515625 30.90625 \nL 53.515625 0 \nL 44.484375 0 \nL 44.484375 32.71875 \nQ 44.484375 40.625 41.703125 44.40625 \nQ 38.921875 48.1875 33.109375 48.1875 \nQ 26.21875 48.1875 22.15625 43.53125 \nQ 18.109375 38.875 18.109375 30.90625 \nL 18.109375 0 \nL 9.078125 0 \nL 9.078125 54.6875 \nL 18.109375 54.6875 \nL 18.109375 46.1875 \nQ 21.1875 51.21875 25.484375 53.609375 \nQ 29.78125 56 35.6875 56 \nQ 41.65625 56 45.828125 52.96875 \nQ 50 49.953125 52 44.1875 \nz\n\" id=\"DejaVuSans-109\"/>\n      <path d=\"M 9.8125 72.90625 \nL 19.671875 72.90625 \nL 19.671875 8.296875 \nL 55.171875 8.296875 \nL 55.171875 0 \nL 9.8125 0 \nz\n\" id=\"DejaVuSans-76\"/>\n      <path d=\"M 9.8125 72.90625 \nL 51.703125 72.90625 \nL 51.703125 64.59375 \nL 19.671875 64.59375 \nL 19.671875 43.109375 \nL 48.578125 43.109375 \nL 48.578125 34.8125 \nL 19.671875 34.8125 \nL 19.671875 0 \nL 9.8125 0 \nz\n\" id=\"DejaVuSans-70\"/>\n     </defs>\n     <use xlink:href=\"#DejaVuSans-82\"/>\n     <use x=\"64.982422\" xlink:href=\"#DejaVuSans-111\"/>\n     <use x=\"126.164062\" xlink:href=\"#DejaVuSans-116\"/>\n     <use x=\"165.373047\" xlink:href=\"#DejaVuSans-97\"/>\n     <use x=\"226.652344\" xlink:href=\"#DejaVuSans-116\"/>\n     <use x=\"265.861328\" xlink:href=\"#DejaVuSans-105\"/>\n     <use x=\"293.644531\" xlink:href=\"#DejaVuSans-111\"/>\n     <use x=\"354.826172\" xlink:href=\"#DejaVuSans-110\"/>\n     <use x=\"418.205078\" xlink:href=\"#DejaVuSans-32\"/>\n     <use x=\"449.992188\" xlink:href=\"#DejaVuSans-69\"/>\n     <use x=\"513.175781\" xlink:href=\"#DejaVuSans-120\"/>\n     <use x=\"572.355469\" xlink:href=\"#DejaVuSans-112\"/>\n     <use x=\"635.832031\" xlink:href=\"#DejaVuSans-101\"/>\n     <use x=\"697.355469\" xlink:href=\"#DejaVuSans-114\"/>\n     <use x=\"738.46875\" xlink:href=\"#DejaVuSans-105\"/>\n     <use x=\"766.251953\" xlink:href=\"#DejaVuSans-109\"/>\n     <use x=\"863.664062\" xlink:href=\"#DejaVuSans-101\"/>\n     <use x=\"925.1875\" xlink:href=\"#DejaVuSans-110\"/>\n     <use x=\"988.566406\" xlink:href=\"#DejaVuSans-116\"/>\n     <use x=\"1027.775391\" xlink:href=\"#DejaVuSans-32\"/>\n     <use x=\"1059.5625\" xlink:href=\"#DejaVuSans-40\"/>\n     <use x=\"1098.576172\" xlink:href=\"#DejaVuSans-76\"/>\n     <use x=\"1154.289062\" xlink:href=\"#DejaVuSans-50\"/>\n     <use x=\"1217.912109\" xlink:href=\"#DejaVuSans-70\"/>\n     <use x=\"1275.431641\" xlink:href=\"#DejaVuSans-41\"/>\n    </g>\n   </g>\n  </g>\n </g>\n <defs>\n  <clipPath id=\"p5e77a5a63f\">\n   <rect height=\"187.4\" width=\"455.4625\" x=\"85.95875\" y=\"31.43625\"/>\n  </clipPath>\n </defs>\n</svg>\n",
      "image/png": "[encoded data removed]"
     },
     "metadata": {
      "needs_background": "light"
     }
    }
   ],
   "source": [
    "import seaborn as sns\n",
    "# %%\n",
    "alg_name = ['L2F']\n",
    "angles = np.arange(0,180,30)\n",
    "tes = [[] for _ in range(len(alg_name))]\n",
    "\n",
    "for algo_no,alg in enumerate(alg_name):\n",
    "    for angle in angles:\n",
    "        if alg=='L2F':\n",
    "            orig_error, transfer_error = pickle.load(\n",
    "                open(\"results/angle_\" + str(angle) + \"_uf.pickle\", \"rb\")\n",
    "                )\n",
    "            tes[algo_no].append(orig_error / transfer_error)\n",
    "\n",
    "# %%\n",
    "clr = [\"#00008B\", \"#e41a1c\", \"#4daf4a\", \"#984ea3\", \"#ff7f00\", \"#CCCC00\"]\n",
    "c = sns.color_palette(clr, n_colors=len(clr))\n",
    "fig, ax = plt.subplots(1,1, figsize=(8,4))\n",
    "\n",
    "for alg_no,alg in enumerate(alg_name):\n",
    "    if alg_no<2:\n",
    "        ax.plot(angles,tes[alg_no], c=c[alg_no], label=alg_name[alg_no], linewidth=3)\n",
    "    else:\n",
    "        ax.plot(angles,tes[alg_no], c=c[alg_no], label=alg_name[alg_no])\n",
    "\n",
    "ax.set_yticks([.9,.95, 1, 1.05,1.11])\n",
    "ax.set_ylim([0.85,1.13])\n",
    "ax.set_xticks([0,30,60,90,120,150,180])\n",
    "ax.tick_params(labelsize=20)\n",
    "ax.set_xlabel('Angle of Rotation (Degrees)', fontsize=24)\n",
    "ax.set_ylabel('BTE', fontsize=24)\n",
    "ax.set_title(\"Rotation Experiment (L2F)\", fontsize = 24)\n",
    "right_side = ax.spines[\"right\"]\n",
    "right_side.set_visible(False)\n",
    "top_side = ax.spines[\"top\"]\n",
    "top_side.set_visible(False)\n",
    "plt.tight_layout()"
   ]
  },
  {
   "cell_type": "code",
   "execution_count": null,
   "metadata": {},
   "outputs": [],
   "source": []
  }
 ],
 "metadata": {
  "language_info": {
   "codemirror_mode": {
    "name": "ipython",
    "version": 3
   },
   "file_extension": ".py",
   "mimetype": "text/x-python",
   "name": "python",
   "nbconvert_exporter": "python",
   "pygments_lexer": "ipython3",
   "version": "3.7.0-final"
  },
  "orig_nbformat": 2,
  "kernelspec": {
   "name": "python37064bitproglufconda2f416a67a7dd4643b4eb9d687d02740e",
   "display_name": "Python 3.7.0 64-bit ('ProgL_UF': conda)"
  }
 },
 "nbformat": 4,
 "nbformat_minor": 2
}